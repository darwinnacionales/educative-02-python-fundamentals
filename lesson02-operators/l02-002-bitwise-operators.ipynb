{
 "cells": [
  {
   "cell_type": "code",
   "execution_count": 1,
   "id": "f2e54f6f-2f36-4760-8a8e-af376ce7c815",
   "metadata": {},
   "outputs": [
    {
     "name": "stdout",
     "output_type": "stream",
     "text": [
      "2\n",
      "30\n",
      "28\n",
      "-11\n",
      "80\n",
      "2\n"
     ]
    }
   ],
   "source": [
    "num1 = 10  # Binary value = 01010\n",
    "num2 = 22  # Binary Value = 10110\n",
    "\n",
    "print(num1 & num2)  \n",
    "print(num1 | num2)  \n",
    "print(num1 ^ num2)   \n",
    "print(~num1)        \n",
    "print(num1 << 3)     \n",
    "print(num2 >> 3)"
   ]
  },
  {
   "cell_type": "markdown",
   "id": "da267381-ce92-493e-a21f-ca1d1f5bc943",
   "metadata": {},
   "source": [
    "## Compound Assignment Bitwise Operator"
   ]
  },
  {
   "cell_type": "code",
   "execution_count": 2,
   "id": "f4c39a17-ed1e-499c-8388-22e95cada1bf",
   "metadata": {},
   "outputs": [
    {
     "name": "stdout",
     "output_type": "stream",
     "text": [
      "2\n",
      "30\n",
      "28\n",
      "-11\n",
      "80\n",
      "2\n"
     ]
    }
   ],
   "source": [
    "num1 = 10  # Binary value = 01010\n",
    "num2 = 22  # Binary Value = 10110\n",
    "\n",
    "# Compound Bitwise AND Assignment\n",
    "num1 &= num2\n",
    "print(num1)  # 00010 -> 2\n",
    "\n",
    "# Reset num1 for next operations\n",
    "num1 = 10  # Binary value = 01010\n",
    "\n",
    "# Compound Bitwise OR Assignment\n",
    "num1 |= num2\n",
    "print(num1)  #  11110 ->  30 \n",
    "\n",
    "# Reset num1 for next operations\n",
    "num1 = 10  # Binary value = 01010\n",
    "\n",
    "# Compound Bitwise XOR Assignment\n",
    "num1 ^= num2\n",
    "print(num1)  # 11100 -> 28  \n",
    "\n",
    "# Reset num1 for next operations\n",
    "num1 = 10  # Binary value = 01010\n",
    "\n",
    "# Bitwise NOT (not a compound assignment, so this is a standard bitwise operation)\n",
    "print(~num1)  # (1011) -> -11  \n",
    "\n",
    "# Reset num1 for next operations\n",
    "num1 = 10  # Binary value = 01010\n",
    "\n",
    "# Compound Bitwise Left Shift Assignment\n",
    "num1 <<= 3\n",
    "print(num1)  #  0101 0000  -> 80\n",
    "\n",
    "# Reset num2 for next operations\n",
    "num2 = 22  # Binary value = 10110\n",
    "\n",
    "# Compound Bitwise Right Shift Assignment\n",
    "num2 >>= 3\n",
    "print(num2)  #  00010 ->  2"
   ]
  },
  {
   "cell_type": "markdown",
   "id": "554e2907-bc99-4de3-aa3c-5cb599d6eaa5",
   "metadata": {},
   "source": [
    "## Viewing an integer's binary representation using bin()"
   ]
  },
  {
   "cell_type": "code",
   "execution_count": 4,
   "id": "5792da62-0e9e-4c0d-af03-104cb2c42f37",
   "metadata": {},
   "outputs": [
    {
     "name": "stdout",
     "output_type": "stream",
     "text": [
      "2 | 0b10\n",
      "30 | 0b11110\n",
      "28 | 0b11100\n",
      "-11 | -0b1011\n",
      "80 | 0b1010000\n",
      "2 | 0b10\n"
     ]
    }
   ],
   "source": [
    "print(\"2 |\", bin(2))\n",
    "print(\"30 |\", bin(30))\n",
    "print(\"28 |\", bin(28))\n",
    "print(\"-11 |\", bin(-11))\n",
    "print(\"80 |\", bin(80))\n",
    "print(\"2 |\", bin(2))"
   ]
  },
  {
   "cell_type": "code",
   "execution_count": null,
   "id": "27cff64d-9801-434f-a608-0fc44099f867",
   "metadata": {},
   "outputs": [],
   "source": []
  }
 ],
 "metadata": {
  "kernelspec": {
   "display_name": "Python 3 (ipykernel)",
   "language": "python",
   "name": "python3"
  },
  "language_info": {
   "codemirror_mode": {
    "name": "ipython",
    "version": 3
   },
   "file_extension": ".py",
   "mimetype": "text/x-python",
   "name": "python",
   "nbconvert_exporter": "python",
   "pygments_lexer": "ipython3",
   "version": "3.10.12"
  }
 },
 "nbformat": 4,
 "nbformat_minor": 5
}
