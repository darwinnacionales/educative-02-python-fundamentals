{
 "cells": [
  {
   "cell_type": "markdown",
   "id": "aea1ce6b-2083-4be1-b232-82a30bfb119c",
   "metadata": {},
   "source": [
    "# Comparison Operators"
   ]
  },
  {
   "cell_type": "code",
   "execution_count": 1,
   "id": "8585b698-b8f7-41ba-8634-5ae97265cbac",
   "metadata": {},
   "outputs": [
    {
     "name": "stdout",
     "output_type": "stream",
     "text": [
      "True\n",
      "True\n",
      "False\n",
      "False\n",
      "True\n",
      "True\n"
     ]
    }
   ],
   "source": [
    "print('a' < 'b')  # 'a' has a smaller Unicode value\n",
    "\n",
    "house = \"Gryffindor\"\n",
    "house_copy = \"Gryffindor\"\n",
    "house_copy_longer = \"Gryffindor_\"\n",
    "new_house = \"Slytherin\"\n",
    "\n",
    "print(house == house_copy)\n",
    "print(house == new_house)\n",
    "print(new_house <= house)\n",
    "print(new_house >= house)\n",
    "print(house_copy <= house_copy_longer)"
   ]
  },
  {
   "cell_type": "markdown",
   "id": "d15bc0f9-6f83-4b1b-8689-68a999010505",
   "metadata": {},
   "source": [
    "# Concatenation"
   ]
  },
  {
   "cell_type": "code",
   "execution_count": 2,
   "id": "43f6bc7d-0fb5-4b76-bc11-a8d5e2aaca60",
   "metadata": {},
   "outputs": [
    {
     "name": "stdout",
     "output_type": "stream",
     "text": [
      "Batman\n"
     ]
    }
   ],
   "source": [
    "first_half = \"Bat\"\n",
    "second_half = \"man\"\n",
    "\n",
    "full_name = first_half + second_half\n",
    "print(full_name)"
   ]
  },
  {
   "cell_type": "code",
   "execution_count": 3,
   "id": "321f2029-fd41-4b97-918e-60dc66f93eed",
   "metadata": {},
   "outputs": [
    {
     "ename": "TypeError",
     "evalue": "can only concatenate str (not \"int\") to str",
     "output_type": "error",
     "traceback": [
      "\u001b[0;31m---------------------------------------------------------------------------\u001b[0m",
      "\u001b[0;31mTypeError\u001b[0m                                 Traceback (most recent call last)",
      "Cell \u001b[0;32mIn[3], line 4\u001b[0m\n\u001b[1;32m      1\u001b[0m name \u001b[38;5;241m=\u001b[39m \u001b[38;5;124m\"\u001b[39m\u001b[38;5;124mBatman\u001b[39m\u001b[38;5;124m\"\u001b[39m\n\u001b[1;32m      2\u001b[0m age \u001b[38;5;241m=\u001b[39m \u001b[38;5;241m30\u001b[39m\n\u001b[0;32m----> 4\u001b[0m full_info \u001b[38;5;241m=\u001b[39m \u001b[43mname\u001b[49m\u001b[43m \u001b[49m\u001b[38;5;241;43m+\u001b[39;49m\u001b[43m \u001b[49m\u001b[43mage\u001b[49m\n",
      "\u001b[0;31mTypeError\u001b[0m: can only concatenate str (not \"int\") to str"
     ]
    }
   ],
   "source": [
    "name = \"Batman\"\n",
    "age = 30\n",
    "\n",
    "full_info = name + age"
   ]
  },
  {
   "cell_type": "code",
   "execution_count": 4,
   "id": "676dab34-46c1-49da-953e-a37db26cbbd0",
   "metadata": {},
   "outputs": [
    {
     "name": "stdout",
     "output_type": "stream",
     "text": [
      "Batman30\n"
     ]
    }
   ],
   "source": [
    "name = \"Batman\"\n",
    "age = 30\n",
    "\n",
    "full_info = name + str(age)\n",
    "print(full_info)"
   ]
  },
  {
   "cell_type": "markdown",
   "id": "ff4ab5e1-bbe4-4867-86f7-5538815650bf",
   "metadata": {},
   "source": [
    "# String Replication"
   ]
  },
  {
   "cell_type": "code",
   "execution_count": 5,
   "id": "56cec86b-3104-46c1-8620-d3b5c779807f",
   "metadata": {},
   "outputs": [
    {
     "name": "stdout",
     "output_type": "stream",
     "text": [
      "hahaha\n",
      "----------\n"
     ]
    }
   ],
   "source": [
    "print(\"ha\" * 3)\n",
    "print(\"-\" * 10)"
   ]
  },
  {
   "cell_type": "code",
   "execution_count": 7,
   "id": "9c79c632-22a1-4201-8898-59b6bf365d25",
   "metadata": {},
   "outputs": [
    {
     "name": "stdout",
     "output_type": "stream",
     "text": [
      "False\n",
      "True\n",
      "True\n"
     ]
    }
   ],
   "source": [
    "random_string = \"This is a random string\"\n",
    "\n",
    "print('of' in random_string)\n",
    "print('random' in random_string)\n",
    "print('hello' not in random_string)"
   ]
  },
  {
   "cell_type": "code",
   "execution_count": null,
   "id": "2717f603-7f4b-4180-9983-66496ce21bca",
   "metadata": {},
   "outputs": [],
   "source": []
  }
 ],
 "metadata": {
  "kernelspec": {
   "display_name": "Python 3 (ipykernel)",
   "language": "python",
   "name": "python3"
  },
  "language_info": {
   "codemirror_mode": {
    "name": "ipython",
    "version": 3
   },
   "file_extension": ".py",
   "mimetype": "text/x-python",
   "name": "python",
   "nbconvert_exporter": "python",
   "pygments_lexer": "ipython3",
   "version": "3.10.12"
  }
 },
 "nbformat": 4,
 "nbformat_minor": 5
}
