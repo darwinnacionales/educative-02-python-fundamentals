{
 "cells": [
  {
   "cell_type": "markdown",
   "id": "0cd1073b-6ea6-4f74-8cb5-d84bc1523e8a",
   "metadata": {},
   "source": [
    "# Making a List"
   ]
  },
  {
   "cell_type": "code",
   "execution_count": 1,
   "id": "f3995357-9a99-4ef0-9e57-b33b6dad3110",
   "metadata": {},
   "outputs": [
    {
     "name": "stdout",
     "output_type": "stream",
     "text": [
      "[True, 1, 2.5, 'A string']\n"
     ]
    }
   ],
   "source": [
    "my_list = [True, 1, 2.5, \"A string\"]\n",
    "print(my_list)"
   ]
  },
  {
   "cell_type": "markdown",
   "id": "5227f71c-bd46-4e4b-ac5f-e981c51b581a",
   "metadata": {},
   "source": [
    "# Accessing Elements"
   ]
  },
  {
   "cell_type": "code",
   "execution_count": 2,
   "id": "ac1dc2b8-2171-42e8-a896-5f282a74601c",
   "metadata": {},
   "outputs": [
    {
     "name": "stdout",
     "output_type": "stream",
     "text": [
      "2.5\n",
      "4\n",
      "['hello', 1, 2.5, 'A string']\n"
     ]
    },
    {
     "ename": "IndexError",
     "evalue": "list index out of range",
     "output_type": "error",
     "traceback": [
      "\u001b[0;31m---------------------------------------------------------------------------\u001b[0m",
      "\u001b[0;31mIndexError\u001b[0m                                Traceback (most recent call last)",
      "Cell \u001b[0;32mIn[2], line 6\u001b[0m\n\u001b[1;32m      4\u001b[0m my_list[\u001b[38;5;241m0\u001b[39m]\u001b[38;5;241m=\u001b[39m\u001b[38;5;124m\"\u001b[39m\u001b[38;5;124mhello\u001b[39m\u001b[38;5;124m\"\u001b[39m\n\u001b[1;32m      5\u001b[0m \u001b[38;5;28mprint\u001b[39m(my_list)\n\u001b[0;32m----> 6\u001b[0m \u001b[38;5;28mprint\u001b[39m(\u001b[43mmy_list\u001b[49m\u001b[43m[\u001b[49m\u001b[38;5;28;43mlen\u001b[39;49m\u001b[43m(\u001b[49m\u001b[43mmy_list\u001b[49m\u001b[43m)\u001b[49m\u001b[43m]\u001b[49m)\n",
      "\u001b[0;31mIndexError\u001b[0m: list index out of range"
     ]
    }
   ],
   "source": [
    "my_list = [True, 1, 2.5, \"A string\"]\n",
    "print(my_list[2])\n",
    "print(len(my_list))\n",
    "my_list[0]=\"hello\"\n",
    "print(my_list)\n",
    "print(my_list[len(my_list)])"
   ]
  },
  {
   "cell_type": "markdown",
   "id": "981142f7-cfe5-491a-b29e-e02b8ad360c0",
   "metadata": {},
   "source": [
    "# Indexing String Elements of a List"
   ]
  },
  {
   "cell_type": "code",
   "execution_count": 3,
   "id": "42fa7d4d-0eef-4e29-bf60-2cf8224ced48",
   "metadata": {},
   "outputs": [
    {
     "name": "stdout",
     "output_type": "stream",
     "text": [
      "e\n",
      "c\n"
     ]
    }
   ],
   "source": [
    "my_list = [\"hello\", \"world\", \"Educative\"]\n",
    "print(my_list[0][1])  # Accessing the second character of the first string\n",
    "print(my_list[2][3])  # Accessing the fourth character of the third string"
   ]
  },
  {
   "cell_type": "code",
   "execution_count": null,
   "id": "3b53c5f1-a61a-41e0-b272-5fa110b1ed70",
   "metadata": {},
   "outputs": [],
   "source": []
  }
 ],
 "metadata": {
  "kernelspec": {
   "display_name": "Python 3 (ipykernel)",
   "language": "python",
   "name": "python3"
  },
  "language_info": {
   "codemirror_mode": {
    "name": "ipython",
    "version": 3
   },
   "file_extension": ".py",
   "mimetype": "text/x-python",
   "name": "python",
   "nbconvert_exporter": "python",
   "pygments_lexer": "ipython3",
   "version": "3.10.12"
  }
 },
 "nbformat": 4,
 "nbformat_minor": 5
}
