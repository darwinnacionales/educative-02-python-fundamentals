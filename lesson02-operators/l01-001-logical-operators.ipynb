{
 "cells": [
  {
   "cell_type": "markdown",
   "id": "3815e83f-5121-4ec1-824b-d9c757596a33",
   "metadata": {},
   "source": [
    "# Logical Expressions"
   ]
  },
  {
   "cell_type": "code",
   "execution_count": 1,
   "id": "05313c8c-f370-4de9-8c75-f0d62b355c05",
   "metadata": {},
   "outputs": [
    {
     "name": "stdout",
     "output_type": "stream",
     "text": [
      "| A     | B     | AND    | OR     | NOT A  | NOT B  |\n",
      "| ----- | ----- | ------ | ------ | ------ | ------ |\n",
      "| True  | True  | True   | True   | False  | False  |\n",
      "| True  | False | False  | True   | False  | True   |\n",
      "| False | True  | False  | True   | True   | False  |\n",
      "| False | False | False  | False  | True   | True   |\n"
     ]
    }
   ],
   "source": [
    "print(\"| A     | B     | AND    | OR     | NOT A  | NOT B  |\")\n",
    "print(\"| ----- | ----- | ------ | ------ | ------ | ------ |\")\n",
    "print(\"| True  | True  |\", True and True, \"  |\", True or True, \"  |\", not True, \" |\", not True, \" |\")\n",
    "print(\"| True  | False |\", True and False, \" |\", True or False, \"  |\", not True, \" |\", not False, \"  |\")\n",
    "print(\"| False | True  |\", False and True, \" |\", False or True, \"  |\", not False, \"  |\", not True, \" |\")\n",
    "print(\"| False | False |\", False and False, \" |\", False or False,\" |\", not False, \"  |\", not False, \"  |\")"
   ]
  },
  {
   "cell_type": "markdown",
   "id": "e6ba480a-8a15-41b0-a7a4-2e9423772452",
   "metadata": {},
   "source": [
    "# Bit Value"
   ]
  },
  {
   "cell_type": "code",
   "execution_count": 2,
   "id": "38b69298-7d38-42d8-a3b9-291959b9f1d0",
   "metadata": {},
   "outputs": [
    {
     "name": "stdout",
     "output_type": "stream",
     "text": [
      "11\n",
      "10\n",
      "1\n"
     ]
    }
   ],
   "source": [
    "print(10 + True)\n",
    "print(10 + False)\n",
    "print (True + False)"
   ]
  },
  {
   "cell_type": "markdown",
   "id": "aec71ea0-cdfd-4086-a51a-686537ed3c0e",
   "metadata": {},
   "source": [
    "# Compound Logical Assignment Operator"
   ]
  },
  {
   "cell_type": "code",
   "execution_count": 3,
   "id": "1a8f36fc-4178-4ff5-a640-7c6b272b63c2",
   "metadata": {},
   "outputs": [
    {
     "name": "stdout",
     "output_type": "stream",
     "text": [
      "False\n",
      "True\n"
     ]
    }
   ],
   "source": [
    "x = True\n",
    "y = False\n",
    "x &= y\n",
    "print(x)\n",
    "\n",
    "z = True\n",
    "z |= y\n",
    "print(z)"
   ]
  },
  {
   "cell_type": "code",
   "execution_count": null,
   "id": "bac0f65e-dfd4-4132-b8be-4ec8667a61b4",
   "metadata": {},
   "outputs": [],
   "source": []
  }
 ],
 "metadata": {
  "kernelspec": {
   "display_name": "Python 3 (ipykernel)",
   "language": "python",
   "name": "python3"
  },
  "language_info": {
   "codemirror_mode": {
    "name": "ipython",
    "version": 3
   },
   "file_extension": ".py",
   "mimetype": "text/x-python",
   "name": "python",
   "nbconvert_exporter": "python",
   "pygments_lexer": "ipython3",
   "version": "3.10.12"
  }
 },
 "nbformat": 4,
 "nbformat_minor": 5
}
