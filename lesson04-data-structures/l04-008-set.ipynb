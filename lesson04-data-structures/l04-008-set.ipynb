{
 "cells": [
  {
   "cell_type": "markdown",
   "id": "aaa9e341-ede3-403f-8a91-b5d5b2835f80",
   "metadata": {},
   "source": [
    "# Creating a Set"
   ]
  },
  {
   "cell_type": "code",
   "execution_count": 1,
   "id": "711cc522-d468-4f43-828b-fdbe67660f99",
   "metadata": {},
   "outputs": [
    {
     "name": "stdout",
     "output_type": "stream",
     "text": [
      "{1408, (True, False), 3.142, 'Educative'}\n",
      "4\n"
     ]
    }
   ],
   "source": [
    "random_set = {\"Educative\", 1408, 3.142,\n",
    "              (True, False)}\n",
    "print(random_set)\n",
    "print(len(random_set))  "
   ]
  },
  {
   "cell_type": "markdown",
   "id": "e74e4364-4be2-4403-8697-48efd7b4dbbd",
   "metadata": {},
   "source": [
    "# The `set()` Constructor"
   ]
  },
  {
   "cell_type": "code",
   "execution_count": 2,
   "id": "bf55e1a8-b9ce-480d-91b2-593e139c569f",
   "metadata": {},
   "outputs": [
    {
     "name": "stdout",
     "output_type": "stream",
     "text": [
      "set()\n",
      "{1408, (True, False), 3.142, 'Educative'}\n"
     ]
    }
   ],
   "source": [
    "empty_set = set()\n",
    "print(empty_set)\n",
    "\n",
    "random_set = set({\"Educative\", 1408, 3.142, (True, False)})\n",
    "print(random_set)"
   ]
  },
  {
   "cell_type": "markdown",
   "id": "1c704056-9b77-4ec0-a1ad-1b797d305527",
   "metadata": {},
   "source": [
    "# Creating lists, sets, tuples, and dictionaries"
   ]
  },
  {
   "cell_type": "code",
   "execution_count": 3,
   "id": "9a501f9c-f55f-497e-add5-cadce19bc2b0",
   "metadata": {},
   "outputs": [
    {
     "name": "stdout",
     "output_type": "stream",
     "text": [
      "<class 'set'>\n",
      "<class 'list'>\n",
      "<class 'dict'>\n",
      "<class 'tuple'>\n"
     ]
    }
   ],
   "source": [
    "test_set = {\"Educative\", 1408, 3.142, (True, False)}\n",
    "test_lst = [\"Educative\", 1408, 3.142, (True, False)]\n",
    "test_dic = {1: \"Educative\", 2: 1408, 3: 3.142, 4: (True, False)}\n",
    "test_tup = (\"Educative\", 1408, 3.142, (True, False))\n",
    "\n",
    "print(type(test_set))  \n",
    "print(type(test_lst))  \n",
    "print(type(test_dic))  \n",
    "print(type(test_tup))"
   ]
  },
  {
   "cell_type": "markdown",
   "id": "3d6bfa23-3167-454e-8db4-7574f58832ca",
   "metadata": {},
   "source": [
    "# Adding Elements"
   ]
  },
  {
   "cell_type": "code",
   "execution_count": 4,
   "id": "16318628-b988-447e-922b-633b932ef0e1",
   "metadata": {},
   "outputs": [
    {
     "name": "stdout",
     "output_type": "stream",
     "text": [
      "set()\n",
      "{1}\n",
      "{1, 2, 3, 4, 5, 6}\n"
     ]
    }
   ],
   "source": [
    "empty_set = set()\n",
    "print(empty_set)\n",
    "\n",
    "empty_set.add(1)\n",
    "print(empty_set)\n",
    "\n",
    "empty_set.update([2, 2, 3, 4, 5, 5, 5, 6])\n",
    "print(empty_set)"
   ]
  },
  {
   "cell_type": "markdown",
   "id": "c5cc87bb-95a0-426a-b53b-d825bc4d9b67",
   "metadata": {},
   "source": [
    "# Deleting Elements"
   ]
  },
  {
   "cell_type": "code",
   "execution_count": 5,
   "id": "0b8ab278-fbf8-4a0f-90b9-6c6b7461ab74",
   "metadata": {},
   "outputs": [
    {
     "name": "stdout",
     "output_type": "stream",
     "text": [
      "{1408, (True, False), 3.142, 'Educative'}\n",
      "{(True, False), 3.142, 'Educative'}\n",
      "{3.142, 'Educative'}\n"
     ]
    }
   ],
   "source": [
    "random_set = set({\"Educative\", 1408, 3.142, (True, False)})\n",
    "print(random_set)\n",
    "\n",
    "random_set.discard(1408)\n",
    "print(random_set)\n",
    "\n",
    "random_set.remove((True, False))\n",
    "print(random_set)"
   ]
  },
  {
   "cell_type": "markdown",
   "id": "2db6b9c5-0ce5-46ef-809e-c6fe6b7cc79d",
   "metadata": {},
   "source": [
    "# Iterating a Set"
   ]
  },
  {
   "cell_type": "code",
   "execution_count": 6,
   "id": "450829fc-de7a-434e-9ba6-0545abc2875a",
   "metadata": {},
   "outputs": [
    {
     "name": "stdout",
     "output_type": "stream",
     "text": [
      "{9, 10, 11, 12, 13, 14, 15, 16, 17}\n",
      "[1, 3, 5, 7, 9, 11, 13, 15, 17]\n"
     ]
    }
   ],
   "source": [
    "odd_list = [1, 3, 5, 7]\n",
    "unordered_set = {9, 10, 11, 12, 13, 14, 15, 16, 17}\n",
    "\n",
    "print(unordered_set)\n",
    "\n",
    "for num in unordered_set:\n",
    "    if(num % 2 != 0):\n",
    "        odd_list.append(num)\n",
    "\n",
    "print(odd_list)"
   ]
  },
  {
   "cell_type": "markdown",
   "id": "8d5549be-0f62-4c98-9062-d7c8e92803de",
   "metadata": {},
   "source": [
    "# Set Comprehension"
   ]
  },
  {
   "cell_type": "code",
   "execution_count": 7,
   "id": "13ca7918-d682-4d9f-b1e0-4da1199f3217",
   "metadata": {},
   "outputs": [
    {
     "name": "stdout",
     "output_type": "stream",
     "text": [
      "{0, 1, 64, 4, 36, 9, 16, 49, 81, 25}\n"
     ]
    }
   ],
   "source": [
    "squares_set = {x**2 for x in range(10)}\n",
    "print(squares_set)"
   ]
  }
 ],
 "metadata": {
  "kernelspec": {
   "display_name": "Python 3 (ipykernel)",
   "language": "python",
   "name": "python3"
  },
  "language_info": {
   "codemirror_mode": {
    "name": "ipython",
    "version": 3
   },
   "file_extension": ".py",
   "mimetype": "text/x-python",
   "name": "python",
   "nbconvert_exporter": "python",
   "pygments_lexer": "ipython3",
   "version": "3.10.12"
  }
 },
 "nbformat": 4,
 "nbformat_minor": 5
}
