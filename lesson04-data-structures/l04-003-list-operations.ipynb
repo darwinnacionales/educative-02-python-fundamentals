{
 "cells": [
  {
   "cell_type": "markdown",
   "id": "3a60c666-4303-42f1-babc-2ee22c40b2ce",
   "metadata": {},
   "source": [
    "# Adding Elements"
   ]
  },
  {
   "cell_type": "code",
   "execution_count": 1,
   "id": "dd3b6482-dbfc-497c-b1df-facdbe66393d",
   "metadata": {},
   "outputs": [
    {
     "name": "stdout",
     "output_type": "stream",
     "text": [
      "[2, 7, 4]\n"
     ]
    }
   ],
   "source": [
    "num_list = []\n",
    "num_list.append(2)\n",
    "num_list.append(7)\n",
    "num_list.append(4)\n",
    "\n",
    "print(num_list)"
   ]
  },
  {
   "cell_type": "code",
   "execution_count": 3,
   "id": "16512855-82b4-42f0-b8d6-fedf21498ab3",
   "metadata": {},
   "outputs": [
    {
     "name": "stdout",
     "output_type": "stream",
     "text": [
      "[1, 2, 3, 4, 5, 6]\n"
     ]
    }
   ],
   "source": [
    "num_list = [1, 2, 3, 5, 6]\n",
    "num_list.insert(3, 4)\n",
    "print(num_list)"
   ]
  },
  {
   "cell_type": "markdown",
   "id": "e789ff14-0f61-41dd-ae6a-f2d1e4ad68aa",
   "metadata": {},
   "source": [
    "# Removing Elements"
   ]
  },
  {
   "cell_type": "code",
   "execution_count": 5,
   "id": "b1375f18-dc43-416a-a74f-ba22a987e33c",
   "metadata": {},
   "outputs": [
    {
     "name": "stdout",
     "output_type": "stream",
     "text": [
      "Slytherin\n",
      "['Gryffindor', 'Hufflepuff', 'Ravenclaw']\n"
     ]
    }
   ],
   "source": [
    "houses = [\"Gryffindor\", \"Hufflepuff\", \"Ravenclaw\", \"Slytherin\"]\n",
    "last_house = houses.pop()\n",
    "print(last_house)\n",
    "print(houses)"
   ]
  },
  {
   "cell_type": "code",
   "execution_count": 7,
   "id": "e61ce6c1-6e69-448c-8386-8136107de80c",
   "metadata": {},
   "outputs": [
    {
     "name": "stdout",
     "output_type": "stream",
     "text": [
      "['Gryffindor', 'Hufflepuff', 'Ravenclaw', 'Slytherin']\n",
      "['Gryffindor', 'Hufflepuff', 'Slytherin']\n"
     ]
    }
   ],
   "source": [
    "houses = [\"Gryffindor\", \"Hufflepuff\", \"Ravenclaw\", \"Slytherin\"]\n",
    "print(houses)\n",
    "houses.remove(\"Ravenclaw\")\n",
    "print(houses)"
   ]
  },
  {
   "cell_type": "code",
   "execution_count": 8,
   "id": "61351c91-dbcd-4e98-95dc-2d58f4b04379",
   "metadata": {},
   "outputs": [
    {
     "name": "stdout",
     "output_type": "stream",
     "text": [
      "[['Winterfell', 10000], [\"King's Landing\", 50000], ['Iron Islands', 5000]]\n",
      "[['Winterfell', 10000], ['Iron Islands', 5000]]\n"
     ]
    }
   ],
   "source": [
    "populations = [[\"Winterfell\", 10000], [\"King's Landing\", 50000],\n",
    "               [\"Iron Islands\", 5000]]\n",
    "print(populations)\n",
    "populations.remove([\"King's Landing\", 50000])\n",
    "print(populations)"
   ]
  },
  {
   "cell_type": "markdown",
   "id": "e1bef8de-4764-4334-b533-93a96a154fd2",
   "metadata": {},
   "source": [
    "# List Slicing"
   ]
  },
  {
   "cell_type": "code",
   "execution_count": 9,
   "id": "7c1f3f8c-0168-4225-84e7-7aa306b6bc77",
   "metadata": {},
   "outputs": [
    {
     "name": "stdout",
     "output_type": "stream",
     "text": [
      "[3, 4, 5]\n",
      "[1, 3, 5, 7]\n"
     ]
    }
   ],
   "source": [
    "num_list = [1, 2, 3, 4, 5, 6, 7, 8]\n",
    "print(num_list[2:5])\n",
    "print(num_list[0::2])"
   ]
  },
  {
   "cell_type": "markdown",
   "id": "00a1bd3b-e0cb-4ef6-9b0e-974373f2cbe0",
   "metadata": {},
   "source": [
    "# Retrieve Element Position in List"
   ]
  },
  {
   "cell_type": "code",
   "execution_count": 10,
   "id": "97409627-fe84-49b5-9d88-72548b383d07",
   "metadata": {},
   "outputs": [
    {
     "name": "stdout",
     "output_type": "stream",
     "text": [
      "2\n"
     ]
    }
   ],
   "source": [
    "cities = [\"London\", \"Paris\", \"Los Angeles\", \"Beirut\"]\n",
    "\n",
    "print(cities.index(\"Los Angeles\"))"
   ]
  },
  {
   "cell_type": "markdown",
   "id": "9477b995-b51c-4836-ac18-5b502bd11165",
   "metadata": {},
   "source": [
    "# Verify Element Existence"
   ]
  },
  {
   "cell_type": "code",
   "execution_count": 11,
   "id": "c59d2232-eb8f-42e6-be45-066d2186ac84",
   "metadata": {},
   "outputs": [
    {
     "name": "stdout",
     "output_type": "stream",
     "text": [
      "True\n",
      "True\n"
     ]
    }
   ],
   "source": [
    "cities = [\"London\", \"Paris\", \"Los Angeles\", \"Beirut\"]\n",
    "print(\"London\" in cities)\n",
    "print(\"Moscow\" not in cities)"
   ]
  },
  {
   "cell_type": "markdown",
   "id": "a05b6c03-e760-4b20-bfeb-f8e69d0a64f1",
   "metadata": {},
   "source": [
    "# List Sort"
   ]
  },
  {
   "cell_type": "code",
   "execution_count": 12,
   "id": "c4cdae10-682d-444a-8989-51cccad3307b",
   "metadata": {},
   "outputs": [
    {
     "name": "stdout",
     "output_type": "stream",
     "text": [
      "[5, 10, 20, 30, 40, 50.4, 100]\n"
     ]
    }
   ],
   "source": [
    "num_list = [20, 40, 10, 50.4, 30, 100, 5]\n",
    "num_list.sort()\n",
    "print(num_list)"
   ]
  },
  {
   "cell_type": "code",
   "execution_count": null,
   "id": "03ed82df-e807-4685-b687-29a879d12467",
   "metadata": {},
   "outputs": [],
   "source": []
  }
 ],
 "metadata": {
  "kernelspec": {
   "display_name": "Python 3 (ipykernel)",
   "language": "python",
   "name": "python3"
  },
  "language_info": {
   "codemirror_mode": {
    "name": "ipython",
    "version": 3
   },
   "file_extension": ".py",
   "mimetype": "text/x-python",
   "name": "python",
   "nbconvert_exporter": "python",
   "pygments_lexer": "ipython3",
   "version": "3.10.12"
  }
 },
 "nbformat": 4,
 "nbformat_minor": 5
}
