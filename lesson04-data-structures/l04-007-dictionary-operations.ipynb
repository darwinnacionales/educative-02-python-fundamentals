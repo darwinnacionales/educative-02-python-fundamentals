{
 "cells": [
  {
   "cell_type": "markdown",
   "id": "a5b24c5f-96b9-40c0-9dd2-6627af6adb76",
   "metadata": {},
   "source": [
    "# Adding and Updating Entries"
   ]
  },
  {
   "cell_type": "code",
   "execution_count": 1,
   "id": "3ad0ccc5-305e-4cdc-b157-6ec09a522671",
   "metadata": {},
   "outputs": [
    {
     "name": "stdout",
     "output_type": "stream",
     "text": [
      "{'Batman': 468426, 'Cersei': 237734, 'Ghostbusters': 44678}\n",
      "{'Batman': 468426, 'Cersei': 237734, 'Ghostbusters': 44678, 'Godzilla': 46394}\n",
      "{'Batman': 468426, 'Cersei': 237734, 'Ghostbusters': 44678, 'Godzilla': 9000}\n"
     ]
    }
   ],
   "source": [
    "phone_book = {\"Batman\": 468426,\n",
    "              \"Cersei\": 237734,\n",
    "              \"Ghostbusters\": 44678}\n",
    "print(phone_book)\n",
    "\n",
    "phone_book[\"Godzilla\"] = 46394  \n",
    "print(phone_book)\n",
    "\n",
    "phone_book[\"Godzilla\"] = 9000  \n",
    "print(phone_book)"
   ]
  },
  {
   "cell_type": "markdown",
   "id": "9903a534-5bfe-4042-b22d-eac05cb10273",
   "metadata": {},
   "source": [
    "# Removing Entries"
   ]
  },
  {
   "cell_type": "code",
   "execution_count": 2,
   "id": "88617b63-dccd-43c8-805f-bd113de06ce5",
   "metadata": {},
   "outputs": [
    {
     "name": "stdout",
     "output_type": "stream",
     "text": [
      "{'Batman': 468426, 'Cersei': 237734, 'Ghostbusters': 44678}\n",
      "{'Cersei': 237734, 'Ghostbusters': 44678}\n"
     ]
    }
   ],
   "source": [
    "phone_book = {\"Batman\": 468426,\n",
    "              \"Cersei\": 237734,\n",
    "              \"Ghostbusters\": 44678}\n",
    "print(phone_book)\n",
    "\n",
    "del phone_book[\"Batman\"]\n",
    "print(phone_book)"
   ]
  },
  {
   "cell_type": "code",
   "execution_count": 3,
   "id": "744ae1f8-691f-444a-884f-d5db08889ded",
   "metadata": {},
   "outputs": [
    {
     "name": "stdout",
     "output_type": "stream",
     "text": [
      "{'Batman': 468426, 'Cersei': 237734, 'Ghostbusters': 44678}\n",
      "{'Batman': 468426, 'Ghostbusters': 44678}\n",
      "237734\n",
      "('Ghostbusters', 44678)\n"
     ]
    }
   ],
   "source": [
    "phone_book = {\"Batman\": 468426,\n",
    "              \"Cersei\": 237734,\n",
    "              \"Ghostbusters\": 44678}\n",
    "print(phone_book)\n",
    "\n",
    "cersei = phone_book.pop(\"Cersei\")\n",
    "print(phone_book)\n",
    "print(cersei)\n",
    "\n",
    "lastAdded = phone_book.popitem()\n",
    "print(lastAdded)"
   ]
  },
  {
   "cell_type": "markdown",
   "id": "99a232a8-b7f2-458d-b24b-c97d2cf54395",
   "metadata": {},
   "source": [
    "# Dictionary Length"
   ]
  },
  {
   "cell_type": "code",
   "execution_count": 4,
   "id": "3c1c4a5a-671f-4b15-acf7-cd7ad0084fda",
   "metadata": {},
   "outputs": [
    {
     "name": "stdout",
     "output_type": "stream",
     "text": [
      "3\n"
     ]
    }
   ],
   "source": [
    "phone_book = {\"Batman\": 468426,\n",
    "              \"Cersei\": 237734,\n",
    "              \"Ghostbusters\": 44678}\n",
    "print(len(phone_book))"
   ]
  },
  {
   "cell_type": "markdown",
   "id": "1dfcf6cf-f379-436c-b967-934b64dfb3b3",
   "metadata": {},
   "source": [
    "# Checking Key Existence"
   ]
  },
  {
   "cell_type": "code",
   "execution_count": 5,
   "id": "006e0759-953b-4e85-92fd-4b9a72703ecd",
   "metadata": {},
   "outputs": [
    {
     "name": "stdout",
     "output_type": "stream",
     "text": [
      "True\n",
      "False\n"
     ]
    }
   ],
   "source": [
    "phone_book = {\"Batman\": 468426,\n",
    "              \"Cersei\": 237734,\n",
    "              \"Ghostbusters\": 44678}\n",
    "print(\"Batman\" in phone_book)\n",
    "print(\"Godzilla\" in phone_book)"
   ]
  },
  {
   "cell_type": "markdown",
   "id": "364fd5dd-d732-4dcb-91e4-20e8654bc220",
   "metadata": {},
   "source": [
    "# Copying Contents"
   ]
  },
  {
   "cell_type": "code",
   "execution_count": 6,
   "id": "41dd075f-2d96-4130-b454-6cc6745ff444",
   "metadata": {},
   "outputs": [
    {
     "name": "stdout",
     "output_type": "stream",
     "text": [
      "{'Batman': 468426, 'Cersei': 237734, 'Ghostbusters': 44678, 'Catwoman': 67423, 'Jaime': 237734, 'Godzilla': 37623}\n"
     ]
    }
   ],
   "source": [
    "phone_book = {\"Batman\": 468426,\n",
    "              \"Cersei\": 237734,\n",
    "              \"Ghostbusters\": 44678}\n",
    "\n",
    "second_phone_book = {\"Catwoman\": 67423, \"Jaime\": 237734, \"Godzilla\": 37623}\n",
    "phone_book.update(second_phone_book)\n",
    "print(phone_book)"
   ]
  },
  {
   "cell_type": "markdown",
   "id": "35ad17af-3905-41df-8e8c-788acadf3eed",
   "metadata": {},
   "source": [
    "# Dictionary Comprehension"
   ]
  },
  {
   "cell_type": "code",
   "execution_count": 7,
   "id": "4a4ff299-2316-4e7c-9b5c-feffab4d7b82",
   "metadata": {},
   "outputs": [
    {
     "name": "stdout",
     "output_type": "stream",
     "text": [
      "{1: 'Gryffindor', 2: 'Slytherin', 3: 'Hufflepuff', 4: 'Ravenclaw'}\n",
      "{2: 'Gryffindor!', 4: 'Slytherin!', 6: 'Hufflepuff!', 8: 'Ravenclaw!'}\n"
     ]
    }
   ],
   "source": [
    "houses = {1: \"Gryffindor\", 2: \"Slytherin\", 3: \"Hufflepuff\", 4: \"Ravenclaw\"}\n",
    "new_houses = {n * 2: house + \"!\" for (n, house) in houses.items()}\n",
    "print(houses)\n",
    "print(new_houses)"
   ]
  }
 ],
 "metadata": {
  "kernelspec": {
   "display_name": "Python 3 (ipykernel)",
   "language": "python",
   "name": "python3"
  },
  "language_info": {
   "codemirror_mode": {
    "name": "ipython",
    "version": 3
   },
   "file_extension": ".py",
   "mimetype": "text/x-python",
   "name": "python",
   "nbconvert_exporter": "python",
   "pygments_lexer": "ipython3",
   "version": "3.10.12"
  }
 },
 "nbformat": 4,
 "nbformat_minor": 5
}
