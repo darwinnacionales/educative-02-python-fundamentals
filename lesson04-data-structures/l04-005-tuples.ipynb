{
 "cells": [
  {
   "cell_type": "markdown",
   "id": "acecfd03-3e49-4444-8b9b-76d7e334d973",
   "metadata": {},
   "source": [
    "# Creating a tuple"
   ]
  },
  {
   "cell_type": "code",
   "execution_count": 1,
   "id": "ee8ad4aa-9ac6-4429-a0a8-a63c506e0377",
   "metadata": {},
   "outputs": [
    {
     "name": "stdout",
     "output_type": "stream",
     "text": [
      "('Ford', 'Raptor', 2019, 'Red')\n",
      "4\n",
      "Raptor\n",
      "(2019, 'Red')\n"
     ]
    }
   ],
   "source": [
    "car = (\"Ford\", \"Raptor\", 2019, \"Red\")\n",
    "print(car)\n",
    "\n",
    "print(len(car))\n",
    "\n",
    "print(car[1])\n",
    "\n",
    "print(car[2:])"
   ]
  },
  {
   "cell_type": "markdown",
   "id": "22c03454-242a-4f48-8209-847426572b98",
   "metadata": {},
   "source": [
    "# Merging tuples"
   ]
  },
  {
   "cell_type": "code",
   "execution_count": 2,
   "id": "236bfee6-54ef-42c5-bdc2-22b69852cd35",
   "metadata": {},
   "outputs": [
    {
     "name": "stdout",
     "output_type": "stream",
     "text": [
      "('Batman', 'Wonder Woman', 'Superman', 35, 80, 40, 'Martial Arts', 'Super Strength', 'Flight')\n"
     ]
    }
   ],
   "source": [
    "hero_names = (\"Batman\", \"Wonder Woman\", \"Superman\")\n",
    "hero_ages = (35, 80, 40)\n",
    "hero_powers = (\"Martial Arts\", \"Super Strength\", \"Flight\")\n",
    "merged_heroes_info = hero_names + hero_ages + hero_powers\n",
    "print(merged_heroes_info)"
   ]
  },
  {
   "cell_type": "markdown",
   "id": "236636c9-926e-4d0e-991c-1fabc8b7bac8",
   "metadata": {},
   "source": [
    "# Nested tuples"
   ]
  },
  {
   "cell_type": "code",
   "execution_count": 3,
   "id": "33875ab0-52b6-4580-9172-b8459eafb261",
   "metadata": {},
   "outputs": [
    {
     "name": "stdout",
     "output_type": "stream",
     "text": [
      "(('Batman', 'Bruce Wayne', 35, 85.5), ('Wonder Woman', 'Diana Prince', 80, 99.9))\n"
     ]
    }
   ],
   "source": [
    "hero1 = (\"Batman\", \"Bruce Wayne\", 35, 85.5)\n",
    "hero2 = (\"Wonder Woman\", \"Diana Prince\", 80, 99.9)\n",
    "awesome_team = (hero1, hero2)\n",
    "print(awesome_team)"
   ]
  },
  {
   "cell_type": "markdown",
   "id": "989fc0d5-f19e-4439-997e-c7bbf4d64bea",
   "metadata": {},
   "source": [
    "# Search"
   ]
  },
  {
   "cell_type": "code",
   "execution_count": 4,
   "id": "2e3a603a-18c3-4e7d-9d4c-9e932172eb48",
   "metadata": {},
   "outputs": [
    {
     "name": "stdout",
     "output_type": "stream",
     "text": [
      "True\n",
      "False\n"
     ]
    }
   ],
   "source": [
    "cities = (\"London\", \"Paris\", \"Los Angeles\", \"Tokyo\")\n",
    "print(\"Tokyo\" in cities)\n",
    "print(\"Moscow\" in cities)"
   ]
  },
  {
   "cell_type": "code",
   "execution_count": 5,
   "id": "2fe3ed94-630d-4886-b5e8-cc75a4062fee",
   "metadata": {},
   "outputs": [
    {
     "name": "stdout",
     "output_type": "stream",
     "text": [
      "3\n",
      "Index of Tokyo: 3\n"
     ]
    }
   ],
   "source": [
    "cities_set1 = (\"London\", \"Paris\", \"Los Angeles\", \"Tokyo\")\n",
    "print(cities_set1.index(\"Tokyo\"))\n",
    "\n",
    "cities_set2 = (\n",
    "    (\"London\", 8.9, \"UK\"),\n",
    "    (\"Paris\", 2.1, \"France\"),\n",
    "    (\"Los Angeles\", 3.9, \"USA\"),\n",
    "    (\"Tokyo\", 14.0, \"Japan\")\n",
    ")\n",
    "\n",
    "tokyo_index = [city[0] for city in cities_set2].index(\"Tokyo\")\n",
    "print(f\"Index of Tokyo: {tokyo_index}\")"
   ]
  },
  {
   "cell_type": "code",
   "execution_count": null,
   "id": "d3773e03-90a5-4175-b3b3-b65901785513",
   "metadata": {},
   "outputs": [],
   "source": []
  }
 ],
 "metadata": {
  "kernelspec": {
   "display_name": "Python 3 (ipykernel)",
   "language": "python",
   "name": "python3"
  },
  "language_info": {
   "codemirror_mode": {
    "name": "ipython",
    "version": 3
   },
   "file_extension": ".py",
   "mimetype": "text/x-python",
   "name": "python",
   "nbconvert_exporter": "python",
   "pygments_lexer": "ipython3",
   "version": "3.10.12"
  }
 },
 "nbformat": 4,
 "nbformat_minor": 5
}
