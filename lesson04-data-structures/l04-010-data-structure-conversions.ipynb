{
 "cells": [
  {
   "cell_type": "markdown",
   "id": "766d34fe-1dac-4e91-928b-b1bb687bf95f",
   "metadata": {},
   "source": [
    "# Converting to a List"
   ]
  },
  {
   "cell_type": "code",
   "execution_count": 1,
   "id": "f850e2ee-44a8-4161-9843-1e4b1028585e",
   "metadata": {},
   "outputs": [
    {
     "name": "stdout",
     "output_type": "stream",
     "text": [
      "('Anakin', 'Darth Vader', 1000)\n",
      "{'Anakin', 1000, 'Darth Vader'}\n",
      "{1: 'Anakin', 2: 'Darth Vader', 3: 1000}\n",
      "['Anakin', 'Darth Vader', 1000]\n",
      "['Anakin', 1000, 'Darth Vader']\n",
      "[1, 2, 3]\n",
      "['Anakin', 'Darth Vader', 1000]\n",
      "[(1, 'Anakin'), (2, 'Darth Vader'), (3, 1000)]\n"
     ]
    }
   ],
   "source": [
    "# Tuple of Star Wars characters and a number\n",
    "star_wars_tup = (\"Anakin\", \"Darth Vader\", 1000)\n",
    "print(star_wars_tup)\n",
    "\n",
    "# Set of Star Wars characters and a number\n",
    "star_wars_set = {\"Anakin\", \"Darth Vader\", 1000}\n",
    "print(star_wars_set)\n",
    "\n",
    "# Dictionary mapping numbers to Star Wars characters\n",
    "star_wars_dict = {1: \"Anakin\", 2: \"Darth Vader\", 3: 1000}\n",
    "print(star_wars_dict)\n",
    "\n",
    "# Converting the tuple to a list\n",
    "star_wars_list_from_tup = list(star_wars_tup)\n",
    "print(star_wars_list_from_tup)\n",
    "\n",
    "# Converting the set to a list\n",
    "star_wars_list_from_set = list(star_wars_set)\n",
    "print(star_wars_list_from_set)\n",
    "\n",
    "# Converting the keys of the dictionary to a list\n",
    "star_wars_list_from_keys = list(star_wars_dict.keys())\n",
    "print(star_wars_list_from_keys)\n",
    "\n",
    "# Converting the values of the dictionary to a list\n",
    "star_wars_list_from_values = list(star_wars_dict.values())\n",
    "print(star_wars_list_from_values)\n",
    "\n",
    "# Converting the items (key-value pairs) of the dictionary to a list\n",
    "star_wars_list_from_items = list(star_wars_dict.items())\n",
    "print(star_wars_list_from_items)"
   ]
  },
  {
   "cell_type": "markdown",
   "id": "68de31f0-b7c9-4ac9-aff9-cffdd38eff06",
   "metadata": {},
   "source": [
    "# Converting to a Tuple"
   ]
  },
  {
   "cell_type": "code",
   "execution_count": 2,
   "id": "35e85186-b82e-4e1c-ad6b-bd2d9218e4c8",
   "metadata": {},
   "outputs": [
    {
     "name": "stdout",
     "output_type": "stream",
     "text": [
      "['Anakin', 'Darth Vader', 1000]\n",
      "('Anakin', 'Darth Vader', 1000)\n",
      "{1: 'Anakin', 2: 'Darth Vader', 3: 1000}\n",
      "('Anakin', 'Darth Vader', 1000)\n",
      "('Anakin', 'Darth Vader', 1000)\n",
      "(1, 2, 3)\n",
      "('Anakin', 'Darth Vader', 1000)\n",
      "((1, 'Anakin'), (2, 'Darth Vader'), (3, 1000))\n"
     ]
    }
   ],
   "source": [
    "# List of Star Wars characters and a number\n",
    "star_wars_list = [\"Anakin\", \"Darth Vader\", 1000]\n",
    "print(star_wars_list)\n",
    "\n",
    "# Tuple of Star Wars characters and a number\n",
    "star_wars_tup = (\"Anakin\", \"Darth Vader\", 1000)\n",
    "print(star_wars_tup)\n",
    "\n",
    "# Dictionary mapping numbers to Star Wars characters\n",
    "star_wars_dict = {1: \"Anakin\", 2: \"Darth Vader\", 3: 1000}\n",
    "print(star_wars_dict)\n",
    "\n",
    "# Converting the list to a tuple\n",
    "star_wars_tuple_from_list = tuple(star_wars_list)\n",
    "print(star_wars_tuple_from_list)\n",
    "\n",
    "# Converting the tuple to a new tuple (redundant but for demonstration)\n",
    "star_wars_tuple_from_tup = tuple(star_wars_tup)\n",
    "print(star_wars_tuple_from_tup)\n",
    "\n",
    "# Converting the keys of the dictionary to a tuple\n",
    "star_wars_tuple_from_keys = tuple(star_wars_dict.keys())\n",
    "print(star_wars_tuple_from_keys)\n",
    "\n",
    "# Converting the values of the dictionary to a tuple\n",
    "star_wars_tuple_from_values = tuple(star_wars_dict.values())\n",
    "print(star_wars_tuple_from_values)\n",
    "\n",
    "# Converting the items (key-value pairs) of the dictionary to a tuple\n",
    "star_wars_tuple_from_items = tuple(star_wars_dict.items())\n",
    "print(star_wars_tuple_from_items)"
   ]
  },
  {
   "cell_type": "markdown",
   "id": "509f3a59-3678-47e6-ac81-d3834c8d846b",
   "metadata": {},
   "source": [
    "# Converting to a Set"
   ]
  },
  {
   "cell_type": "code",
   "execution_count": 3,
   "id": "b73b442b-939c-417f-bc5f-b163e840a2da",
   "metadata": {},
   "outputs": [
    {
     "name": "stdout",
     "output_type": "stream",
     "text": [
      "['Anakin', 'Darth Vader', 1000]\n",
      "('Anakin', 'Darth Vader', 1000)\n",
      "{1: 'Anakin', 2: 'Darth Vader', 3: 1000}\n",
      "{'Anakin', 1000, 'Darth Vader'}\n",
      "{'Anakin', 1000, 'Darth Vader'}\n",
      "{1, 2, 3}\n",
      "{1, 2, 3}\n",
      "{'Anakin', 1000, 'Darth Vader'}\n",
      "{(1, 'Anakin'), (2, 'Darth Vader'), (3, 1000)}\n"
     ]
    }
   ],
   "source": [
    "# List of Star Wars characters and a number\n",
    "star_wars_list = [\"Anakin\", \"Darth Vader\", 1000]\n",
    "print(star_wars_list)\n",
    "\n",
    "# Tuple of Star Wars characters and a number\n",
    "star_wars_tup = (\"Anakin\", \"Darth Vader\", 1000)\n",
    "print(star_wars_tup)\n",
    "\n",
    "# Dictionary mapping numbers to Star Wars characters\n",
    "star_wars_dict = {1: \"Anakin\", 2: \"Darth Vader\", 3: 1000}\n",
    "print(star_wars_dict)\n",
    "\n",
    "# Converting the list to a set \n",
    "star_wars_set_from_list = set(star_wars_list)  \n",
    "print(star_wars_set_from_list)\n",
    "\n",
    "# Converting the tuple to a set \n",
    "star_wars_set_from_tup = set(star_wars_tup)  \n",
    "print(star_wars_set_from_tup)\n",
    "\n",
    "# Converting the keys of the dictionary to a set \n",
    "star_wars_set_from_dict = set(star_wars_dict)  \n",
    "print(star_wars_set_from_dict)\n",
    "\n",
    "# Converting the keys of the dictionary to a set\n",
    "star_wars_set_from_dict = set(star_wars_dict.keys())\n",
    "print(star_wars_set_from_dict)\n",
    "\n",
    "# Converting the values of the dictionary to a set\n",
    "star_wars_set_from_dict = set(star_wars_dict.values())\n",
    "print(star_wars_set_from_dict)\n",
    "\n",
    "# Converting the items of the dictionary to a set\n",
    "star_wars_set_from_dict = set(star_wars_dict.items())\n",
    "print(star_wars_set_from_dict)"
   ]
  },
  {
   "cell_type": "markdown",
   "id": "292c7694-e4b3-4305-81e4-127a9bede6df",
   "metadata": {},
   "source": [
    "# Converting to a Dictionary"
   ]
  },
  {
   "cell_type": "code",
   "execution_count": 4,
   "id": "66b22a77-15e2-4fff-b8ad-40ed6336497e",
   "metadata": {},
   "outputs": [
    {
     "name": "stdout",
     "output_type": "stream",
     "text": [
      "[[1, 'Anakin'], [2, 'Darth Vader'], [3, 1000]]\n",
      "((1, 'Anakin'), (2, 'Darth Vader'), (3, 1000))\n",
      "{(1, 'Anakin'), (2, 'Darth Vader'), (3, 1000)}\n",
      "{1: 'Anakin', 2: 'Darth Vader', 3: 1000}\n",
      "{1: 'Anakin', 2: 'Darth Vader', 3: 1000}\n",
      "{1: 'Anakin', 2: 'Darth Vader', 3: 1000}\n"
     ]
    }
   ],
   "source": [
    "# List of Star Wars characters with their corresponding IDs\n",
    "star_wars_list = [[1, \"Anakin\"], [2, \"Darth Vader\"], [3, 1000]]\n",
    "print(star_wars_list)\n",
    "\n",
    "# Tuple of Star Wars characters with their corresponding IDs\n",
    "star_wars_tup = ((1, \"Anakin\"), (2, \"Darth Vader\"), (3, 1000))\n",
    "print(star_wars_tup)\n",
    "\n",
    "# Set of Star Wars characters with their corresponding IDs\n",
    "star_wars_set = {(1, \"Anakin\"), (2, \"Darth Vader\"), (3, 1000)}\n",
    "print(star_wars_set)\n",
    "\n",
    "# Converting the list of pairs to a dictionary\n",
    "star_wars_dict_from_list = dict(star_wars_list)  \n",
    "print(star_wars_dict_from_list)\n",
    "\n",
    "# Converting the tuple of pairs to a dictionary\n",
    "star_wars_dict_from_tup = dict(star_wars_tup)  \n",
    "print(star_wars_dict_from_tup)\n",
    "\n",
    "# Converting the set of pairs to a dictionary\n",
    "star_wars_dict_from_set = dict(star_wars_set) \n",
    "print(star_wars_dict_from_set)"
   ]
  }
 ],
 "metadata": {
  "kernelspec": {
   "display_name": "Python 3 (ipykernel)",
   "language": "python",
   "name": "python3"
  },
  "language_info": {
   "codemirror_mode": {
    "name": "ipython",
    "version": 3
   },
   "file_extension": ".py",
   "mimetype": "text/x-python",
   "name": "python",
   "nbconvert_exporter": "python",
   "pygments_lexer": "ipython3",
   "version": "3.10.12"
  }
 },
 "nbformat": 4,
 "nbformat_minor": 5
}
