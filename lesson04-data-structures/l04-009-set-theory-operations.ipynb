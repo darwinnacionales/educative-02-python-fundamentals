{
 "cells": [
  {
   "cell_type": "markdown",
   "id": "00b3480a-8eb8-4305-ad5b-d7d9a71f819e",
   "metadata": {},
   "source": [
    "# Unique Elements\n",
    "\n",
    "In Python, sets are used to store unique elements. Adding duplicate elements to a set will automatically remove the duplicates and only store one instance of each element."
   ]
  },
  {
   "cell_type": "code",
   "execution_count": 1,
   "id": "f158d28a-dbc4-4996-a946-306595839fd3",
   "metadata": {},
   "outputs": [
    {
     "name": "stdout",
     "output_type": "stream",
     "text": [
      "Set with unique elements: {1, 2, 3, 4, 5, 6, 7, 8, 9}\n"
     ]
    }
   ],
   "source": [
    "# Creating a set with duplicate elements\n",
    "elements = {1, 2, 3, 4, 5, 5, 6, 6, 7, 8, 9, 9}\n",
    "\n",
    "# Printing the set\n",
    "print(\"Set with unique elements:\", elements)"
   ]
  },
  {
   "cell_type": "markdown",
   "id": "cbd00751-2ff2-49bc-ab46-a12b22b5abb6",
   "metadata": {},
   "source": [
    "# Union\n",
    "A union of two sets is the collection of all unique elements from both sets, and the order of the sets does not matter."
   ]
  },
  {
   "cell_type": "code",
   "execution_count": 2,
   "id": "2a8fc4e7-7cc0-4710-b13d-f7cf73667ee0",
   "metadata": {},
   "outputs": [
    {
     "name": "stdout",
     "output_type": "stream",
     "text": [
      "{1, 2, 3, 4, 'b', 'a', 'd', 'c'}\n",
      "{1, 2, 3, 4, 'b', 'a', 'd', 'c'}\n",
      "{'b', 1, 'a', 2, 3, 4, 'd', 'c'}\n"
     ]
    }
   ],
   "source": [
    "set_A = {1, 2, 3, 4}\n",
    "set_B = {'a', 'b', 'c', 'd'}\n",
    "\n",
    "print(set_A | set_B)\n",
    "print(set_A.union(set_B))\n",
    "print(set_B.union(set_A))"
   ]
  },
  {
   "cell_type": "markdown",
   "id": "2ab8ee44-5450-449c-883b-2d46f7c5ecf6",
   "metadata": {},
   "source": [
    "# Intersection\n",
    "The intersection of two sets is the collection of elements that are common to both sets, and the order of the sets does not matter. This means that the intersection will yield the same result regardless of which set is listed first."
   ]
  },
  {
   "cell_type": "code",
   "execution_count": 3,
   "id": "f2588ba4-ea81-4661-b566-66f8aca26f2f",
   "metadata": {},
   "outputs": [
    {
     "name": "stdout",
     "output_type": "stream",
     "text": [
      "{2, 4}\n",
      "{2, 4}\n",
      "{2, 4}\n"
     ]
    }
   ],
   "source": [
    "set_A = {1, 2, 3, 4}\n",
    "set_B = {2, 8, 4, 16}\n",
    "\n",
    "print(set_A & set_B)\n",
    "print(set_A.intersection(set_B))\n",
    "print(set_B.intersection(set_A))"
   ]
  },
  {
   "cell_type": "markdown",
   "id": "d6867402-4336-4cad-b463-a93c40737a21",
   "metadata": {},
   "source": [
    "# Difference\n",
    "\n",
    "The difference between two sets is the collection of all unique elements present in the first set but not in the second."
   ]
  },
  {
   "cell_type": "code",
   "execution_count": 4,
   "id": "06c7481b-00ec-4d9e-a1a4-bc5c75f60c0b",
   "metadata": {},
   "outputs": [
    {
     "name": "stdout",
     "output_type": "stream",
     "text": [
      "{1, 3}\n",
      "{1, 3}\n",
      "{8, 16}\n",
      "{8, 16}\n"
     ]
    }
   ],
   "source": [
    "set_A = {1, 2, 3, 4}\n",
    "set_B = {2, 8, 4, 16}\n",
    "\n",
    "print(set_A - set_B)\n",
    "print(set_A.difference(set_B))\n",
    "\n",
    "print(set_B - set_A)\n",
    "print(set_B.difference(set_A))"
   ]
  },
  {
   "cell_type": "markdown",
   "id": "da4312e0-474a-4110-a2cf-08aa3b06bafa",
   "metadata": {},
   "source": [
    "# Symmetric Difference"
   ]
  },
  {
   "cell_type": "code",
   "execution_count": 6,
   "id": "b4b52231-7a8d-4998-a926-c5cc2f6ddebd",
   "metadata": {},
   "outputs": [
    {
     "name": "stdout",
     "output_type": "stream",
     "text": [
      "{1, 2, 3, 6, 7, 8}\n",
      "{1, 2, 3, 6, 7, 8}\n"
     ]
    }
   ],
   "source": [
    "set_A = {1, 2, 3, 4, 5}\n",
    "set_B = {4, 5, 6, 7, 8}\n",
    "\n",
    "sym_diff_method = set_A.symmetric_difference(set_B)\n",
    "print(sym_diff_method)\n",
    "\n",
    "sym_diff_operator = set_A ^ set_B\n",
    "print(sym_diff_operator)"
   ]
  }
 ],
 "metadata": {
  "kernelspec": {
   "display_name": "Python 3 (ipykernel)",
   "language": "python",
   "name": "python3"
  },
  "language_info": {
   "codemirror_mode": {
    "name": "ipython",
    "version": 3
   },
   "file_extension": ".py",
   "mimetype": "text/x-python",
   "name": "python",
   "nbconvert_exporter": "python",
   "pygments_lexer": "ipython3",
   "version": "3.10.12"
  }
 },
 "nbformat": 4,
 "nbformat_minor": 5
}
