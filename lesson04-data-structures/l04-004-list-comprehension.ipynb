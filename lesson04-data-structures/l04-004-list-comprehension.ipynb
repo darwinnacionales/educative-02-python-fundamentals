{
 "cells": [
  {
   "cell_type": "markdown",
   "id": "70dc39a2-12bb-4fed-9ba4-72da95d68376",
   "metadata": {},
   "source": [
    "# Creating a list comprehension"
   ]
  },
  {
   "cell_type": "code",
   "execution_count": 1,
   "id": "1d9f3eb3-9cc6-48ef-aa06-1beea65f4072",
   "metadata": {},
   "outputs": [
    {
     "name": "stdout",
     "output_type": "stream",
     "text": [
      "[10, 20, 30, 40, 50]\n",
      "[20, 40, 60, 80, 100]\n"
     ]
    }
   ],
   "source": [
    "nums = [10, 20, 30, 40, 50]\n",
    "nums_double = []\n",
    "\n",
    "for n in nums:\n",
    "    nums_double.append(n * 2)\n",
    "\n",
    "print(nums)\n",
    "print(nums_double)"
   ]
  },
  {
   "cell_type": "code",
   "execution_count": 2,
   "id": "c1e82129-6054-4700-ba1f-d3a068ed2e42",
   "metadata": {},
   "outputs": [
    {
     "name": "stdout",
     "output_type": "stream",
     "text": [
      "[10, 20, 30, 40, 50]\n",
      "[20, 40, 60, 80, 100]\n"
     ]
    }
   ],
   "source": [
    "nums = [10, 20, 30, 40, 50]\n",
    "\n",
    "nums_double = [n * 2 for n in nums]\n",
    "\n",
    "print(nums)\n",
    "print(nums_double)"
   ]
  },
  {
   "cell_type": "code",
   "execution_count": 4,
   "id": "804d01cc-533a-4879-95d6-58be98fb1ea6",
   "metadata": {},
   "outputs": [
    {
     "name": "stdout",
     "output_type": "stream",
     "text": [
      "[10, 20, 30, 40, 50]\n",
      "[40, 80]\n"
     ]
    }
   ],
   "source": [
    "nums = [10, 20, 30, 40, 50]\n",
    "\n",
    "nums_double = [n * 2 for n in nums if n % 4 == 0]\n",
    "\n",
    "print(nums)\n",
    "print(nums_double)"
   ]
  },
  {
   "cell_type": "markdown",
   "id": "8b6ba0a7-3ec7-44da-8cd5-847834cf65c2",
   "metadata": {},
   "source": [
    "# Using multiple lists"
   ]
  },
  {
   "cell_type": "code",
   "execution_count": 5,
   "id": "344efc46-dbea-4d7f-a7d2-90e7e07a8814",
   "metadata": {},
   "outputs": [
    {
     "name": "stdout",
     "output_type": "stream",
     "text": [
      "[[50, 60], [110, 10], [110, 60], [110, 20], [110, 50], [75, 60], [75, 50]]\n"
     ]
    }
   ],
   "source": [
    "list1 = [30, 50, 110, 40, 15, 75]\n",
    "list2 = [10, 60, 20, 50]\n",
    "\n",
    "sum_list = [[n1, n2] for n1 in list1 for n2 in list2 if n1 + n2 > 100]\n",
    "\n",
    "print(sum_list)"
   ]
  },
  {
   "cell_type": "code",
   "execution_count": null,
   "id": "7afac575-e789-4616-b3ee-4e6e67b290fd",
   "metadata": {},
   "outputs": [],
   "source": []
  }
 ],
 "metadata": {
  "kernelspec": {
   "display_name": "Python 3 (ipykernel)",
   "language": "python",
   "name": "python3"
  },
  "language_info": {
   "codemirror_mode": {
    "name": "ipython",
    "version": 3
   },
   "file_extension": ".py",
   "mimetype": "text/x-python",
   "name": "python",
   "nbconvert_exporter": "python",
   "pygments_lexer": "ipython3",
   "version": "3.10.12"
  }
 },
 "nbformat": 4,
 "nbformat_minor": 5
}
