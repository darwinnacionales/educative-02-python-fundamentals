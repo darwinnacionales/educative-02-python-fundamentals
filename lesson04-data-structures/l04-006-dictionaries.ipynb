{
 "cells": [
  {
   "cell_type": "markdown",
   "id": "ffc2ff45-efe8-4fd3-b67e-e79d94586382",
   "metadata": {},
   "source": [
    "# Creating a Dictionary"
   ]
  },
  {
   "cell_type": "code",
   "execution_count": 1,
   "id": "c140dcd2-5267-4f28-92bf-5753433731ed",
   "metadata": {},
   "outputs": [
    {
     "name": "stdout",
     "output_type": "stream",
     "text": [
      "{}\n",
      "{'Alice': 1234567890, 'Bob': 9876543210, 'Charlie': 'unknown', 123: 5555555.55}\n"
     ]
    }
   ],
   "source": [
    "# Creating an empty dictionary\n",
    "empty_dict = {} \n",
    "print(empty_dict)\n",
    "\n",
    "# Creating a phone book using a dictionary\n",
    "phone_book = {\n",
    "    'Alice': 1234567890,\n",
    "    'Bob': 9876543210,\n",
    "    'Charlie': 'unknown',\n",
    "    123: 5555555.55\n",
    "}\n",
    "\n",
    "# Printing the phone book\n",
    "print(phone_book)"
   ]
  },
  {
   "cell_type": "markdown",
   "id": "34e5ced6-6444-4d66-98fd-6f484bb4d6fc",
   "metadata": {},
   "source": [
    "# `dict()` Constructor"
   ]
  },
  {
   "cell_type": "markdown",
   "id": "c1d3b8f6-e761-4208-887c-f30d3b0f7936",
   "metadata": {},
   "source": [
    "As the name suggests, the `dict()` constructor can be used to construct a dictionary. Think of the “constructor” as an operation that gives us a dictionary. If our keys are simple strings without special characters, we can create entries in the constructor. In that case, values will be assigned to keys using the `=` operator. A popular practice is to create an empty dictionary and add entries later. Let’s update the `empty_dict` and `phone_book` examples to make them work with `dict()`:"
   ]
  },
  {
   "cell_type": "code",
   "execution_count": 2,
   "id": "f018c598-915b-49c9-9529-9ebf884489dd",
   "metadata": {},
   "outputs": [
    {
     "name": "stdout",
     "output_type": "stream",
     "text": [
      "{}\n",
      "{'Batman': 468426, 'Cersei': 237734, 'Ghostbusters': 44678}\n",
      "{'Batman': 468426, 'Cersei': 237734, 'Ghostbusters': 44678}\n"
     ]
    }
   ],
   "source": [
    "empty_dict = dict()  # Empty dictionary\n",
    "print(empty_dict)\n",
    "\n",
    "phone_book = dict(Batman=468426, Cersei=237734, Ghostbusters=44678)\n",
    "# Keys will automatically be converted to strings\n",
    "print(phone_book)\n",
    "\n",
    "# Alternative approach\n",
    "phone_book = dict([('Batman', 468426),\n",
    "                   ('Cersei', 237734),\n",
    "                   ('Ghostbusters', 44678)])\n",
    "print(phone_book)"
   ]
  },
  {
   "cell_type": "markdown",
   "id": "599b6d68-633c-4f6b-b2fd-20559bedc91f",
   "metadata": {},
   "source": [
    "# Accessing Values"
   ]
  },
  {
   "cell_type": "code",
   "execution_count": 3,
   "id": "7cf1c1b4-8d37-45f8-8105-77232a766fc4",
   "metadata": {},
   "outputs": [
    {
     "name": "stdout",
     "output_type": "stream",
     "text": [
      "237734\n",
      "44678\n"
     ]
    }
   ],
   "source": [
    "phone_book = {\"Batman\": 468426,\n",
    "              \"Cersei\": 237734,\n",
    "              \"Ghostbusters\": 44678}\n",
    "print(phone_book[\"Cersei\"])\n",
    "print(phone_book.get(\"Ghostbusters\"))"
   ]
  }
 ],
 "metadata": {
  "kernelspec": {
   "display_name": "Python 3 (ipykernel)",
   "language": "python",
   "name": "python3"
  },
  "language_info": {
   "codemirror_mode": {
    "name": "ipython",
    "version": 3
   },
   "file_extension": ".py",
   "mimetype": "text/x-python",
   "name": "python",
   "nbconvert_exporter": "python",
   "pygments_lexer": "ipython3",
   "version": "3.10.12"
  }
 },
 "nbformat": 4,
 "nbformat_minor": 5
}
