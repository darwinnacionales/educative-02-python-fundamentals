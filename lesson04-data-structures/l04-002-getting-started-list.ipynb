{
 "cells": [
  {
   "cell_type": "markdown",
   "id": "d35bbb8b-ba8e-433a-aa60-4f3a25b5d9dd",
   "metadata": {},
   "source": [
    "# Using `list()`"
   ]
  },
  {
   "cell_type": "code",
   "execution_count": 1,
   "id": "9b320d75-a9cf-4e47-b29e-f3048ae44e8d",
   "metadata": {},
   "outputs": [
    {
     "name": "stdout",
     "output_type": "stream",
     "text": [
      "[0, 1, 2, 3, 4, 5, 6, 7, 8, 9]\n",
      "[3, 6, 9, 12, 15, 18]\n"
     ]
    }
   ],
   "source": [
    "num_seq = range(0, 10)  # A sequence from 0 to 9\n",
    "num_list = list(num_seq)  # The list() method casts the sequence into a list\n",
    "print(num_list)\n",
    "\n",
    "num_seq = range(3, 20, 3)  # A sequence from 3 to 19 with a step of 3\n",
    "print(list(num_seq))"
   ]
  },
  {
   "cell_type": "markdown",
   "id": "3374cc64-2147-4d3e-9eeb-72c2c571c209",
   "metadata": {},
   "source": [
    "# List-ception!"
   ]
  },
  {
   "cell_type": "code",
   "execution_count": 2,
   "id": "7559a9f3-2282-4836-b242-f214b443b9db",
   "metadata": {},
   "outputs": [
    {
     "name": "stdout",
     "output_type": "stream",
     "text": [
      "[[2006, 'Italy'], [2010, 'Spain'], [2014, 'Germany'], [2018, 'France']]\n"
     ]
    }
   ],
   "source": [
    "world_cup_winners = [[2006, \"Italy\"], [2010, \"Spain\"],\n",
    "                     [2014, \"Germany\"], [2018, \"France\"]]\n",
    "print(world_cup_winners)"
   ]
  },
  {
   "cell_type": "markdown",
   "id": "43dbf179-6180-4f7c-abe6-b6eb98cfa139",
   "metadata": {},
   "source": [
    "# Merging Lists"
   ]
  },
  {
   "cell_type": "code",
   "execution_count": 3,
   "id": "6510ff4b-eaf7-4058-ad4b-a9087c69e46b",
   "metadata": {},
   "outputs": [
    {
     "name": "stdout",
     "output_type": "stream",
     "text": [
      "[1, 2, 3, 4, 5, 6, 7, 8, 9, 10]\n"
     ]
    }
   ],
   "source": [
    "part_A = [1, 2, 3, 4, 5]\n",
    "part_B = [6, 7, 8, 9, 10]\n",
    "merged_list = part_A + part_B\n",
    "print(merged_list)"
   ]
  },
  {
   "cell_type": "code",
   "execution_count": 4,
   "id": "22d7909d-fcbd-40fb-b39c-7013fc5c347c",
   "metadata": {},
   "outputs": [
    {
     "name": "stdout",
     "output_type": "stream",
     "text": [
      "[1, 2, 3, 4, 5, 6, 7, 8, 9, 10]\n"
     ]
    }
   ],
   "source": [
    "part_A = [1, 2, 3, 4, 5]\n",
    "part_B = [6, 7, 8, 9, 10]\n",
    "part_A.extend(part_B)\n",
    "print(part_A)"
   ]
  },
  {
   "cell_type": "code",
   "execution_count": null,
   "id": "43ada3e5-c1d9-4bde-9e60-862c97875a25",
   "metadata": {},
   "outputs": [],
   "source": []
  }
 ],
 "metadata": {
  "kernelspec": {
   "display_name": "Python 3 (ipykernel)",
   "language": "python",
   "name": "python3"
  },
  "language_info": {
   "codemirror_mode": {
    "name": "ipython",
    "version": 3
   },
   "file_extension": ".py",
   "mimetype": "text/x-python",
   "name": "python",
   "nbconvert_exporter": "python",
   "pygments_lexer": "ipython3",
   "version": "3.10.12"
  }
 },
 "nbformat": 4,
 "nbformat_minor": 5
}
