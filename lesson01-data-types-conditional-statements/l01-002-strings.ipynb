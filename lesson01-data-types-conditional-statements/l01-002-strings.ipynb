{
 "cells": [
  {
   "cell_type": "markdown",
   "id": "c82ee8bf-bade-4b9d-ae31-a3e985b456d5",
   "metadata": {},
   "source": [
    "# Strings"
   ]
  },
  {
   "cell_type": "code",
   "execution_count": 2,
   "id": "92c227bf-12de-431c-bcdf-14744cbe5621",
   "metadata": {},
   "outputs": [
    {
     "name": "stdout",
     "output_type": "stream",
     "text": [
      "String enclosed in single quotes\n",
      "String enclosed in double quotes\n",
      "String enclosed in triple quotes\n",
      "String containing  \" (double qoutes) enclosed in single quotes\n",
      "String containing  ' (single qoute) enclosed in double quotes\n"
     ]
    }
   ],
   "source": [
    "str_1 = 'String enclosed in single quotes'\n",
    "print(str_1)\n",
    "str_2 = \"String enclosed in double quotes\"\n",
    "print(str_2)\n",
    "str_3 = '''String enclosed in triple quotes'''\n",
    "print(str_3)\n",
    "\n",
    "str_4 = 'String containing  \" (double qoutes) enclosed in single quotes'\n",
    "print(str_4)\n",
    "str_5 = \"String containing  ' (single qoute) enclosed in double quotes\"\n",
    "print(str_5)"
   ]
  },
  {
   "cell_type": "markdown",
   "id": "30f83f60-72ed-4d09-a8ad-69711f24ca91",
   "metadata": {},
   "source": [
    "## Escape Characters"
   ]
  },
  {
   "cell_type": "code",
   "execution_count": 8,
   "id": "026a556a-2c2c-4dd3-8a67-a2df785350a9",
   "metadata": {},
   "outputs": [
    {
     "name": "stdout",
     "output_type": "stream",
     "text": [
      "Hello'World\n",
      "Hello\"World\n",
      "Hello\n",
      "World\n",
      "Hello\tWorld\n",
      "Hello\\World\n"
     ]
    }
   ],
   "source": [
    "str_1 = \"Hello\\'World\"\n",
    "str_2 = \"Hello\\\"World\"\n",
    "str_3 = \"Hello\\nWorld\"\n",
    "str_4 = \"Hello\\tWorld\"\n",
    "str_5 = \"Hello\\\\World\"\n",
    "\n",
    "print(str_1)\n",
    "print(str_2)\n",
    "print(str_3)\n",
    "print(str_4)\n",
    "print(str_5)"
   ]
  },
  {
   "cell_type": "markdown",
   "id": "72b90161-98da-4c30-9cdd-e954fe108366",
   "metadata": {},
   "source": [
    "## Length of a String"
   ]
  },
  {
   "cell_type": "code",
   "execution_count": 9,
   "id": "1f67c16d-6cd3-4744-8729-2f309559e0f2",
   "metadata": {},
   "outputs": [
    {
     "name": "stdout",
     "output_type": "stream",
     "text": [
      "11\n"
     ]
    }
   ],
   "source": [
    "random_string = \"I am Batman\"\n",
    "\n",
    "print(len(random_string))"
   ]
  },
  {
   "cell_type": "markdown",
   "id": "5810e030-46d2-4f44-b412-b95ea0e8cef4",
   "metadata": {},
   "source": [
    "## Access Single Character"
   ]
  },
  {
   "cell_type": "code",
   "execution_count": 10,
   "id": "3d268ff0-3d5a-4266-9720-818e3a33cee6",
   "metadata": {},
   "outputs": [
    {
     "name": "stdout",
     "output_type": "stream",
     "text": [
      "H\n",
      "d\n"
     ]
    }
   ],
   "source": [
    "message = \"Hello World\"\n",
    "first = message[0]\n",
    "print(first)\n",
    "print(message[10])"
   ]
  },
  {
   "cell_type": "markdown",
   "id": "e893daed-1636-4d7c-b261-95856a4ed028",
   "metadata": {},
   "source": [
    "## Reverse Indexing"
   ]
  },
  {
   "cell_type": "code",
   "execution_count": 11,
   "id": "8cf3c169-fed5-425f-85a2-31026af457b1",
   "metadata": {},
   "outputs": [
    {
     "name": "stdout",
     "output_type": "stream",
     "text": [
      "e\n",
      "o\n"
     ]
    }
   ],
   "source": [
    "Educative = \"Educative Course\"\n",
    "print(Educative[-1])  \n",
    "print(Educative[-5])  "
   ]
  },
  {
   "cell_type": "markdown",
   "id": "5b726f82-efa7-4bfa-ad23-b05b7f1e49ed",
   "metadata": {},
   "source": [
    "## String Immutability"
   ]
  },
  {
   "cell_type": "code",
   "execution_count": 12,
   "id": "cdd5893e-bdc2-4261-b65b-9aa4ecff734a",
   "metadata": {},
   "outputs": [
    {
     "ename": "TypeError",
     "evalue": "'str' object does not support item assignment",
     "output_type": "error",
     "traceback": [
      "\u001b[0;31m---------------------------------------------------------------------------\u001b[0m",
      "\u001b[0;31mTypeError\u001b[0m                                 Traceback (most recent call last)",
      "Cell \u001b[0;32mIn[12], line 2\u001b[0m\n\u001b[1;32m      1\u001b[0m string \u001b[38;5;241m=\u001b[39m \u001b[38;5;124m\"\u001b[39m\u001b[38;5;124mImmutability\u001b[39m\u001b[38;5;124m\"\u001b[39m\n\u001b[0;32m----> 2\u001b[0m \u001b[43mstring\u001b[49m\u001b[43m[\u001b[49m\u001b[38;5;241;43m0\u001b[39;49m\u001b[43m]\u001b[49m \u001b[38;5;241m=\u001b[39m \u001b[38;5;124m'\u001b[39m\u001b[38;5;124m0\u001b[39m\u001b[38;5;124m'\u001b[39m\n",
      "\u001b[0;31mTypeError\u001b[0m: 'str' object does not support item assignment"
     ]
    }
   ],
   "source": [
    "string = \"Immutability\"\n",
    "string[0] = '0'"
   ]
  },
  {
   "cell_type": "code",
   "execution_count": 13,
   "id": "bb7dcde0-9948-4009-9653-53e852315d1c",
   "metadata": {},
   "outputs": [
    {
     "name": "stdout",
     "output_type": "stream",
     "text": [
      "Hello\n",
      "World\n"
     ]
    }
   ],
   "source": [
    "str1 = \"Hello\"\n",
    "print(str1)\n",
    "str1 = \"World\"\n",
    "print(str1)"
   ]
  },
  {
   "cell_type": "code",
   "execution_count": null,
   "id": "ba6639a0-5f56-4007-8843-8acacb72930d",
   "metadata": {},
   "outputs": [],
   "source": []
  }
 ],
 "metadata": {
  "kernelspec": {
   "display_name": "Python 3 (ipykernel)",
   "language": "python",
   "name": "python3"
  },
  "language_info": {
   "codemirror_mode": {
    "name": "ipython",
    "version": 3
   },
   "file_extension": ".py",
   "mimetype": "text/x-python",
   "name": "python",
   "nbconvert_exporter": "python",
   "pygments_lexer": "ipython3",
   "version": "3.10.12"
  }
 },
 "nbformat": 4,
 "nbformat_minor": 5
}
