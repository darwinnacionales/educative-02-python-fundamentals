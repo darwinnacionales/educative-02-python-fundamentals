{
 "cells": [
  {
   "cell_type": "markdown",
   "id": "8ab27f3b-1cd8-4985-b422-68f529e2a42c",
   "metadata": {},
   "source": [
    "# If-Elif-Else Structure"
   ]
  },
  {
   "cell_type": "code",
   "execution_count": 3,
   "id": "89db8a5c-3aa5-44e2-896b-3566a0fa747e",
   "metadata": {},
   "outputs": [
    {
     "name": "stdout",
     "output_type": "stream",
     "text": [
      "Stop\n",
      "Caution\n",
      "Go\n",
      "Stop\n"
     ]
    }
   ],
   "source": [
    "def print_action(light):\n",
    "    if light == \"Green\":\n",
    "        print(\"Go\")\n",
    "    elif light == \"Yellow\":\n",
    "        print(\"Caution\")\n",
    "    elif light == \"Red\":\n",
    "        print(\"Stop\")\n",
    "    else:\n",
    "        print(\"Incorrect light signal\")\n",
    "\n",
    "print_action(\"Red\")\n",
    "print_action(\"Yellow\")\n",
    "print_action(\"Green\")\n",
    "print_action(\"Red\")"
   ]
  },
  {
   "cell_type": "code",
   "execution_count": 4,
   "id": "a8ec9d40-b9c7-46c2-a04f-ee5df56063f7",
   "metadata": {},
   "outputs": [
    {
     "name": "stdout",
     "output_type": "stream",
     "text": [
      "One\n",
      "Four\n",
      "Nine\n"
     ]
    }
   ],
   "source": [
    "\n",
    "def print_string(num):\n",
    "    if num == 0:\n",
    "        print(\"Zero\")\n",
    "    elif num == 1:\n",
    "        print(\"One\")\n",
    "    elif num == 2:\n",
    "        print(\"Two\")\n",
    "    elif num == 3:\n",
    "        print(\"Three\")\n",
    "    elif num == 4:\n",
    "        print(\"Four\")\n",
    "    elif num == 5:\n",
    "        print(\"Five\")\n",
    "    elif num == 6:\n",
    "        print(\"Six\")\n",
    "    elif num == 7:\n",
    "        print(\"Seven\")\n",
    "    elif num == 8:\n",
    "        print(\"Eight\")\n",
    "    elif num == 9:\n",
    "        print(\"Nine\")\n",
    "\n",
    "print_string(1)\n",
    "print_string(4)\n",
    "print_string(9)"
   ]
  },
  {
   "cell_type": "code",
   "execution_count": 5,
   "id": "1dfe91ad-d695-458f-ac01-d9be91bc0f67",
   "metadata": {},
   "outputs": [
    {
     "name": "stdout",
     "output_type": "stream",
     "text": [
      "The number is greater than 5\n",
      "The number is even\n"
     ]
    }
   ],
   "source": [
    "num = 10\n",
    "\n",
    "if num > 5:\n",
    "    print(\"The number is greater than 5\")\n",
    "if num % 2 == 0:\n",
    "    print(\"The number is even\")\n",
    "if not num % 2 == 0:\n",
    "    print(\"The number is odd\")"
   ]
  },
  {
   "cell_type": "code",
   "execution_count": 6,
   "id": "fec3f6df-b23b-4829-acac-5d9df0274085",
   "metadata": {},
   "outputs": [
    {
     "name": "stdout",
     "output_type": "stream",
     "text": [
      "The number is greater than 5\n"
     ]
    }
   ],
   "source": [
    "num = 10\n",
    "\n",
    "if num > 5:\n",
    "    print(\"The number is greater than 5\")\n",
    "\n",
    "elif num % 2 == 0:\n",
    "    print(\"The number is even\")\n",
    "\n",
    "else:\n",
    "    print(\"The number is odd and less than or equal to 5\")"
   ]
  },
  {
   "cell_type": "markdown",
   "id": "33a5494d-34bf-473b-9415-1c34afeab96e",
   "metadata": {},
   "source": [
    "## Multiple Conditions"
   ]
  },
  {
   "cell_type": "code",
   "execution_count": 9,
   "id": "a6ddcf73-7e5a-48ea-9e11-63944c22fcab",
   "metadata": {},
   "outputs": [
    {
     "name": "stdout",
     "output_type": "stream",
     "text": [
      "Yellow\n",
      "Yellow\n"
     ]
    }
   ],
   "source": [
    "AQI = 75\n",
    "\n",
    "if AQI >= 0 and AQI <= 50:\n",
    "  print(\"Green\")\n",
    "elif AQI > 50 and AQI <= 100:\n",
    "  print(\"Yellow\")\n",
    "elif AQI > 100 and AQI <= 150:\n",
    "  print(\"Orange\")\n",
    "elif AQI > 150 and AQI <= 200:\n",
    "  print(\"Red\")\n",
    "elif AQI > 200 and AQI <= 300:\n",
    "  print(\"Purple\")\n",
    "elif AQI > 300 and AQI <= 500:\n",
    "  print(\"Maroon\")\n",
    "else:\n",
    "  print(\"Incorrect Value\")\n",
    "\n",
    "## More efficient approach\n",
    "\n",
    "if AQI >= 0 and AQI <= 50:\n",
    "  print(\"Green\")\n",
    "elif AQI <= 100:\n",
    "  print(\"Yellow\")\n",
    "elif AQI <= 150:\n",
    "  print(\"Orange\")\n",
    "elif AQI <= 200:\n",
    "  print(\"Red\")\n",
    "elif AQI <= 300:\n",
    "  print(\"Purple\")\n",
    "elif AQI <= 500:\n",
    "  print(\"Maroon\")\n",
    "else:\n",
    "  print(\"Incorrect Value\")\n"
   ]
  },
  {
   "cell_type": "markdown",
   "id": "4e60a23a-2b3e-4381-a06b-10b41b854e6d",
   "metadata": {},
   "source": [
    "## Comparing Floating Point Numbers"
   ]
  },
  {
   "cell_type": "code",
   "execution_count": 10,
   "id": "291ecf76-1bb2-4781-812e-111970a8ce46",
   "metadata": {},
   "outputs": [
    {
     "name": "stdout",
     "output_type": "stream",
     "text": [
      "False\n"
     ]
    }
   ],
   "source": [
    "print (0.1 + 0.2 == 0.3) "
   ]
  },
  {
   "cell_type": "markdown",
   "id": "4faaab87-2ce4-4654-881b-d8b5dd73607e",
   "metadata": {},
   "source": [
    "The most common approach to comparing floating-point numbers is to use a tolerance value or an \"epsilon\" to determine if two numbers are \"close enough\" to be considered equal. Python's math module provides a convenient function isclose() for this purpose. We will talk more about importing modules later in the course."
   ]
  },
  {
   "cell_type": "code",
   "execution_count": 11,
   "id": "d2d080fc-8fe7-4578-bbb1-3798fedaf759",
   "metadata": {},
   "outputs": [
    {
     "name": "stdout",
     "output_type": "stream",
     "text": [
      "True\n"
     ]
    }
   ],
   "source": [
    "import math\n",
    "\n",
    "a = 0.1 + 0.2\n",
    "b = 0.3\n",
    "\n",
    "print(math.isclose(a, b)) "
   ]
  },
  {
   "cell_type": "code",
   "execution_count": 12,
   "id": "d7ecc8d0-3233-4ca2-8a75-10800f9b0b79",
   "metadata": {},
   "outputs": [
    {
     "name": "stdout",
     "output_type": "stream",
     "text": [
      "True\n",
      "False\n"
     ]
    }
   ],
   "source": [
    "import math\n",
    "\n",
    "a = 0.1 + 0.2\n",
    "b = 0.3\n",
    "\n",
    "print(math.isclose(a, b, rel_tol=1e-9)) \n",
    "print(math.isclose(a, b, rel_tol=1e-20))  "
   ]
  },
  {
   "cell_type": "markdown",
   "id": "7cd7406a-cb21-4f58-8b5c-86a6bd010aa8",
   "metadata": {},
   "source": [
    "We use absolute tolerance when comparing numbers with specific precision, regardless of magnitude. For example, to check if two numbers are within 0.001 of each other, set the absolute tolerance to 0.001.\n",
    "\n",
    "On the other hand, we use relative tolerance when we also need to take the two numbers' scale into account. For example, suppose we need to compare two variables that can hold both very large values as well as small values. In that case, since the scales can vary so drastically, instead of specifying an exact tolerance number, we can specify a tolerance percentage. So that the actual epsilon would be large for large numbers and small otherwise. For example, if you want to find if two numbers are close in the sense that they differ by 1%, then set the relative tolerance to 0.01.\n",
    "\n",
    "In math.isclose(), you can specify both:"
   ]
  },
  {
   "cell_type": "code",
   "execution_count": 13,
   "id": "9f9d23d3-4de0-4686-ab65-f7d45d2f41c5",
   "metadata": {},
   "outputs": [
    {
     "name": "stdout",
     "output_type": "stream",
     "text": [
      "True\n",
      "True\n"
     ]
    }
   ],
   "source": [
    "import math\n",
    "\n",
    "a = 0.1 + 0.2\n",
    "b = 0.3\n",
    "\n",
    "print(math.isclose(a, b, rel_tol=1e-9))\n",
    "print(math.isclose(a, b,  abs_tol=1e-12))"
   ]
  },
  {
   "cell_type": "markdown",
   "id": "59103e55-a20c-4bdc-9485-46fbe5d0270f",
   "metadata": {},
   "source": [
    "---"
   ]
  },
  {
   "cell_type": "markdown",
   "id": "220191a4-b36d-4d61-b821-fbdec64c3d91",
   "metadata": {},
   "source": [
    "# Practice"
   ]
  },
  {
   "cell_type": "markdown",
   "id": "4816e213-71fd-4eb8-b021-c46cf0ce9c93",
   "metadata": {},
   "source": [
    "## Assign a Grade to a Course"
   ]
  },
  {
   "cell_type": "code",
   "execution_count": 14,
   "id": "172adf5f-2b91-47ca-8a6b-789a62182087",
   "metadata": {},
   "outputs": [
    {
     "name": "stdout",
     "output_type": "stream",
     "text": [
      "B\n",
      "C\n"
     ]
    }
   ],
   "source": [
    "def print_grade(score):\n",
    "    if score < 60:\n",
    "        print(\"F\")\n",
    "    elif score < 70:\n",
    "        print(\"D\")\n",
    "    elif score < 80:\n",
    "        print(\"C\")\n",
    "    elif score < 90:\n",
    "        print(\"B\")\n",
    "    else:\n",
    "        print(\"A\")\n",
    "\n",
    "print_grade(85)\n",
    "print_grade(72)"
   ]
  },
  {
   "cell_type": "code",
   "execution_count": null,
   "id": "f94c1516-e868-48d7-a034-b8fb20cc7313",
   "metadata": {},
   "outputs": [],
   "source": []
  }
 ],
 "metadata": {
  "kernelspec": {
   "display_name": "Python 3 (ipykernel)",
   "language": "python",
   "name": "python3"
  },
  "language_info": {
   "codemirror_mode": {
    "name": "ipython",
    "version": 3
   },
   "file_extension": ".py",
   "mimetype": "text/x-python",
   "name": "python",
   "nbconvert_exporter": "python",
   "pygments_lexer": "ipython3",
   "version": "3.10.12"
  }
 },
 "nbformat": 4,
 "nbformat_minor": 5
}
