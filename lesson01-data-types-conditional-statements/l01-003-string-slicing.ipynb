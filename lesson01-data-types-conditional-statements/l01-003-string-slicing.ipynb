{
 "cells": [
  {
   "cell_type": "markdown",
   "id": "3ce4b3c2-a7d3-472f-bb23-75f854110d2b",
   "metadata": {},
   "source": [
    "# Slicing in Python"
   ]
  },
  {
   "cell_type": "code",
   "execution_count": 1,
   "id": "5fc1a7b0-4c54-4a3c-8029-85ad079f2666",
   "metadata": {},
   "outputs": [
    {
     "name": "stdout",
     "output_type": "stream",
     "text": [
      "This\n",
      "his is\n",
      "MY string!\n"
     ]
    }
   ],
   "source": [
    "my_string = \"This is MY string!\"\n",
    "print(my_string[0:4]) \n",
    "print(my_string[1:7])\n",
    "print(my_string[8:len(my_string)])"
   ]
  },
  {
   "cell_type": "markdown",
   "id": "bc188901-a0fa-4093-a789-fd2c5c63ff0f",
   "metadata": {},
   "source": [
    "## Slicing with Step"
   ]
  },
  {
   "cell_type": "code",
   "execution_count": 2,
   "id": "2cc08e30-546b-4ed5-8921-01e18f4921b4",
   "metadata": {},
   "outputs": [
    {
     "name": "stdout",
     "output_type": "stream",
     "text": [
      "This is\n",
      "Ti s\n",
      "Ti\n"
     ]
    }
   ],
   "source": [
    "my_string = \"This is MY string!\"\n",
    "print(my_string[0:7])    # A step of 1\n",
    "print(my_string[0:7:2])  # A step of 2\n",
    "print(my_string[0:7:5])  # A step of 5"
   ]
  },
  {
   "cell_type": "markdown",
   "id": "dc949ee1-d416-40f3-bbe3-4d2e04874175",
   "metadata": {},
   "source": [
    "## Extracting substrings in reverse order"
   ]
  },
  {
   "cell_type": "code",
   "execution_count": 3,
   "id": "11bf545c-c3b2-4e81-a476-164c94ed08a8",
   "metadata": {},
   "outputs": [
    {
     "name": "stdout",
     "output_type": "stream",
     "text": [
      "rts YM si s\n",
      "!nrsY ish\n"
     ]
    }
   ],
   "source": [
    "my_string = \"This is MY string!\"\n",
    "print(my_string[13:2:-1]) # Take 1 step back each time\n",
    "print(my_string[17:0:-2]) # Take 2 steps back. The opposite of what happens in the slide above"
   ]
  },
  {
   "cell_type": "markdown",
   "id": "0cf3a9c9-3478-41b8-ab85-6cbdaba0ba51",
   "metadata": {},
   "source": [
    "## Partial Slicing"
   ]
  },
  {
   "cell_type": "code",
   "execution_count": 4,
   "id": "f423542c-6507-4479-a88e-579526fc66f1",
   "metadata": {},
   "outputs": [
    {
     "name": "stdout",
     "output_type": "stream",
     "text": [
      "This is \n",
      "MY string!\n",
      "This is MY string!\n",
      "!gnirts YM si sihT\n"
     ]
    }
   ],
   "source": [
    "my_string = \"This is MY string!\"\n",
    "print(my_string[:8])   # All the characters before 'M'\n",
    "print(my_string[8:])   # All the characters starting from 'M'\n",
    "print(my_string[:])    # The whole string\n",
    "print(my_string[::-1]) # The whole string in reverse (step is -1)"
   ]
  },
  {
   "cell_type": "markdown",
   "id": "5d596d93-45c9-4b27-a588-91315e849ff9",
   "metadata": {},
   "source": [
    "## Slicing by Character"
   ]
  },
  {
   "cell_type": "code",
   "execution_count": 6,
   "id": "2a60fa29-26fb-4539-b8fc-743831e443fc",
   "metadata": {},
   "outputs": [
    {
     "name": "stdout",
     "output_type": "stream",
     "text": [
      "Protocol 1: https\n",
      "Protocol 2: ftp\n",
      "Protocol 3: http\n"
     ]
    }
   ],
   "source": [
    "# Define three URLs with different protocols\n",
    "url1 = \"https://www.example.com\"\n",
    "url2 = \"ftp://ftp.example.org\"\n",
    "url3 = \"http://api.example.net\"\n",
    "\n",
    "protocol1 = url1[:url1.index(':')]\n",
    "protocol2 = url2[:url2.index(':')]\n",
    "protocol3 = url3[:url3.index(':')]\n",
    "\n",
    "print(\"Protocol 1:\", protocol1)\n",
    "print(\"Protocol 2:\", protocol2)\n",
    "print(\"Protocol 3:\", protocol3)"
   ]
  },
  {
   "cell_type": "code",
   "execution_count": null,
   "id": "a6605464-0daf-4ef2-8c30-8301e58c702b",
   "metadata": {},
   "outputs": [],
   "source": []
  }
 ],
 "metadata": {
  "kernelspec": {
   "display_name": "Python 3 (ipykernel)",
   "language": "python",
   "name": "python3"
  },
  "language_info": {
   "codemirror_mode": {
    "name": "ipython",
    "version": 3
   },
   "file_extension": ".py",
   "mimetype": "text/x-python",
   "name": "python",
   "nbconvert_exporter": "python",
   "pygments_lexer": "ipython3",
   "version": "3.10.12"
  }
 },
 "nbformat": 4,
 "nbformat_minor": 5
}
