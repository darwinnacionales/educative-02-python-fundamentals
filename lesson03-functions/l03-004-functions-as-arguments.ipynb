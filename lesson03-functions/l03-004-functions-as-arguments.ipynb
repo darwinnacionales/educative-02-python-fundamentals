{
 "cells": [
  {
   "cell_type": "markdown",
   "id": "927311f6-72e2-49c1-82d2-c4d9bbd518c5",
   "metadata": {},
   "source": [
    "# Using Simple Functions"
   ]
  },
  {
   "cell_type": "code",
   "execution_count": 2,
   "id": "ba65308e-be1a-4f40-a067-9c79eb6f8454",
   "metadata": {},
   "outputs": [
    {
     "name": "stdout",
     "output_type": "stream",
     "text": [
      "200\n",
      "8\n",
      "-10\n"
     ]
    }
   ],
   "source": [
    "def add(n1, n2):\n",
    "    return n1 + n2\n",
    "\n",
    "def subtract(n1, n2):\n",
    "    return n1 - n2\n",
    "\n",
    "def multiply(n1, n2):\n",
    "    return n1 * n2\n",
    "\n",
    "def calculator(operation, n1, n2):\n",
    "    return operation(n1, n2)  # Using the 'operation' argument as a function\n",
    "\n",
    "# Using the calculator with the multiply function\n",
    "print(calculator(multiply, 10, 20)) \n",
    "\n",
    "# Using the calculator with the add function\n",
    "result = calculator(add, 5, 3)\n",
    "print(result)\n",
    "\n",
    "# Assigning a function to a variable and passing it to the calculator\n",
    "sub_var = subtract\n",
    "print(calculator(sub_var, 10, 20)) "
   ]
  },
  {
   "cell_type": "markdown",
   "id": "1b1e6f9f-093b-49c7-9f7f-2f3bde54119f",
   "metadata": {},
   "source": [
    "# Using Lambdas for Readability"
   ]
  },
  {
   "cell_type": "code",
   "execution_count": 3,
   "id": "185a79bd-4414-42ee-95c8-4059b9e06943",
   "metadata": {},
   "outputs": [
    {
     "name": "stdout",
     "output_type": "stream",
     "text": [
      "200\n",
      "30\n"
     ]
    }
   ],
   "source": [
    "def calculator(operation, n1, n2):\n",
    "    return operation(n1, n2)  # Using the 'operation' argument as a function\n",
    "\n",
    "# 10 and 20 are the arguments.\n",
    "result = calculator(lambda n1, n2: n1 * n2, 10, 20)\n",
    "# The lambda multiplies them.\n",
    "print(result)\n",
    "\n",
    "print(calculator(lambda n1, n2: n1 + n2, 10, 20))"
   ]
  },
  {
   "cell_type": "markdown",
   "id": "4320e83d-0b67-4646-aeb3-0a773a481bc8",
   "metadata": {},
   "source": [
    "# The `map` Object"
   ]
  },
  {
   "cell_type": "markdown",
   "id": "f6b3da2c-5e1b-45ca-90df-da16c1757a83",
   "metadata": {},
   "source": [
    "The built-in `map()` function in Python is used to apply a given function to all items in an input list (or any iterable), creating a map object. This map object is an iterator that generates results on the fly and can be converted into a list or another iterable type. The `map()` function returns a `map` object, which is an iterator. This map object can be converted to a list using `list()` or to another iterable type, such as a tuple, using `tuple()`.\n",
    "\n",
    "* **Iterator**: A map object is an iterator that lazily applies a specified function to each item of the input iterable. It is lazy in that it doesn't immediately execute the function on all items but does so as you iterate over the map object.\n",
    "\n",
    "* **Memory efficiency**: Since the map object is an iterator, it is more memory-efficient than generating and storing a new list with the results. The function is applied to each item only when it is needed.\n",
    "\n",
    "* **Conversion**: You can convert a map object into a list, tuple, or any other iterable using the `list()`, `tuple()`, or similar functions.\n",
    "\n",
    "The `map()` function can handle various types of iterables, such as lists, tuples, or strings. It applies the provided function to each item in the iterable, returning a new map object. The function treats each item in the iterable individually, regardless of its type, and processes them in the same order they appear."
   ]
  },
  {
   "cell_type": "code",
   "execution_count": 4,
   "id": "cc5a1045-baff-4488-a6f2-8b0907080d01",
   "metadata": {},
   "outputs": [
    {
     "name": "stdout",
     "output_type": "stream",
     "text": [
      "[0, 1, 4, 9, 16, 25]\n"
     ]
    }
   ],
   "source": [
    "num_list = [0, 1, 2, 3, 4, 5]\n",
    "\n",
    "# Using a lambda function directly with map\n",
    "squared_numbers = map(lambda num: num * num, num_list)\n",
    "\n",
    "# Convert the map object to a list\n",
    "squared_numbers_list = list(squared_numbers)\n",
    "\n",
    "print(squared_numbers_list)  "
   ]
  },
  {
   "cell_type": "markdown",
   "id": "a79d0768-7325-4ff3-a19f-e20c96d16ba0",
   "metadata": {},
   "source": [
    "# The `reduce` Object"
   ]
  },
  {
   "cell_type": "markdown",
   "id": "65e2e2f5-2ea5-4a86-b8e8-411dd368ce82",
   "metadata": {},
   "source": [
    "The `reduce()` function in Python returns the final result of applying a function cumulatively to the items of an iterable, not a \"reduce object\" like `map()` or `filter()` return their own respective objects."
   ]
  },
  {
   "cell_type": "code",
   "execution_count": 5,
   "id": "f315e039-2101-45ca-962d-2fd0f0205e0d",
   "metadata": {},
   "outputs": [
    {
     "name": "stdout",
     "output_type": "stream",
     "text": [
      "15\n"
     ]
    }
   ],
   "source": [
    "from functools import reduce\n",
    "numbers = [1, 2, 3, 4, 5]\n",
    "result = reduce(lambda x, y: x + y, numbers)\n",
    "print(result)  "
   ]
  },
  {
   "cell_type": "markdown",
   "id": "4d7b9335-572f-4bd1-9894-b5d406d022a5",
   "metadata": {},
   "source": [
    "# The `filter` Object"
   ]
  },
  {
   "cell_type": "markdown",
   "id": "7f321fc0-f8fd-4d97-bfd2-b5e3c5b2c9e4",
   "metadata": {},
   "source": [
    "Another similar example is the `filter()` a function that returns a new object that filters the items in an iterable based on a function that returns either `True` or `False` without changing the original list. It requires a function and a list. `filter()` filters elements from a list of the elements satisfy the condition that is specified in the argument function. Just like `map()`, `filter()` returns a new object without changing the original list."
   ]
  },
  {
   "cell_type": "code",
   "execution_count": 6,
   "id": "19587ade-1c0c-43c0-9ccd-2b1c3e6d3eae",
   "metadata": {},
   "outputs": [
    {
     "name": "stdout",
     "output_type": "stream",
     "text": [
      "[30, 17, 100]\n"
     ]
    }
   ],
   "source": [
    "numList = [30, 2, -15, 17, 9, 100]\n",
    "greater_than_10 = list(filter(lambda n: n > 10, numList))\n",
    "print(greater_than_10)"
   ]
  },
  {
   "cell_type": "code",
   "execution_count": null,
   "id": "3ff27c55-2035-4e14-a566-7e860edb64f1",
   "metadata": {},
   "outputs": [],
   "source": []
  }
 ],
 "metadata": {
  "kernelspec": {
   "display_name": "Python 3 (ipykernel)",
   "language": "python",
   "name": "python3"
  },
  "language_info": {
   "codemirror_mode": {
    "name": "ipython",
    "version": 3
   },
   "file_extension": ".py",
   "mimetype": "text/x-python",
   "name": "python",
   "nbconvert_exporter": "python",
   "pygments_lexer": "ipython3",
   "version": "3.10.12"
  }
 },
 "nbformat": 4,
 "nbformat_minor": 5
}
