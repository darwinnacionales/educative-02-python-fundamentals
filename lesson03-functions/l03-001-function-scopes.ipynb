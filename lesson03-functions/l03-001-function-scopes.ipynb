{
 "cells": [
  {
   "cell_type": "markdown",
   "id": "74518f9a-e2aa-4354-8c25-42d5b56a1c55",
   "metadata": {},
   "source": [
    "# Data Lifecycle"
   ]
  },
  {
   "cell_type": "code",
   "execution_count": 1,
   "id": "4998d632-4b1c-4644-8a91-113bc507c837",
   "metadata": {},
   "outputs": [
    {
     "ename": "NameError",
     "evalue": "name 'name' is not defined",
     "output_type": "error",
     "traceback": [
      "\u001b[0;31m---------------------------------------------------------------------------\u001b[0m",
      "\u001b[0;31mNameError\u001b[0m                                 Traceback (most recent call last)",
      "Cell \u001b[0;32mIn[1], line 6\u001b[0m\n\u001b[1;32m      2\u001b[0m     name \u001b[38;5;241m=\u001b[39m \u001b[38;5;124m\"\u001b[39m\u001b[38;5;124mStark\u001b[39m\u001b[38;5;124m\"\u001b[39m\n\u001b[1;32m      4\u001b[0m func()\n\u001b[0;32m----> 6\u001b[0m \u001b[38;5;28mprint\u001b[39m(\u001b[43mname\u001b[49m)\n",
      "\u001b[0;31mNameError\u001b[0m: name 'name' is not defined"
     ]
    }
   ],
   "source": [
    "def func():\n",
    "    name = \"Stark\"\n",
    "\n",
    "func()\n",
    "\n",
    "print(name)"
   ]
  },
  {
   "cell_type": "code",
   "execution_count": 2,
   "id": "ded5e93c-3fd4-4865-a609-c37254f40955",
   "metadata": {},
   "outputs": [
    {
     "name": "stdout",
     "output_type": "stream",
     "text": [
      "Ned\n"
     ]
    }
   ],
   "source": [
    "name = \"Ned\"\n",
    "\n",
    "def func():\n",
    "    name = \"Stark\"\n",
    "\n",
    "func()\n",
    "\n",
    "print(name)"
   ]
  },
  {
   "cell_type": "markdown",
   "id": "8bb5ef82-7a09-4f31-b732-928e06bc5d5f",
   "metadata": {},
   "source": [
    "# Global Scope"
   ]
  },
  {
   "cell_type": "markdown",
   "id": "8787823d-7040-4de3-b085-ddcb4fdb4d45",
   "metadata": {},
   "source": [
    "Global scope refers to the area of a program where variables that are defined outside of all functions exist. These variables are accessible from any part of the program, including inside functions, making them globally available. The global scope is the “top-most” scope in a Python program, and variables defined in this scope are known as global variables.\n",
    "\n",
    "Here are some key points about global scope:\n",
    "* **Global variables**: Variables defined in the global scope are called global variables. They can be read from any part of the program, including inside functions and classes. However, if you want to modify a global variable from within a function, you must explicitly declare it as `global` inside the function; otherwise, Python will treat it as a local variable.\n",
    "* **Lifetime**: Global variables exist for the duration of your program’s execution, which means they are created when your program starts and are destroyed when your program terminates. This is in contrast to local variables, which are created and destroyed within the scope of a function or block of code.\n",
    "* **Accessibility**: While global variables can be accessed from anywhere in the program, it’s generally advised to use them sparingly. Overuse of global variables can make your program hard to understand and maintain because it can become difficult to track where and how they are modified. It’s often better to pass variables as parameters to functions.\n",
    "* **Namespace**: In Python, the global scope is also a namespace. This means that all global variables belong to the global namespace. When you refer to a variable in your code, Python searches the local namespace first (inside the function or class method from which you’re accessing the variable). If it doesn’t find the variable there, it then searches the global namespace. If the variable is not found in the global namespace, Python raises a `NameError`."
   ]
  },
  {
   "cell_type": "code",
   "execution_count": 4,
   "id": "68981085-9578-4abb-8e04-455f78f7fe8a",
   "metadata": {},
   "outputs": [
    {
     "name": "stdout",
     "output_type": "stream",
     "text": [
      "We live on Earth\n",
      "We live on Mars\n"
     ]
    }
   ],
   "source": [
    "planet = \"Earth\"\n",
    "\n",
    "def print_planet():\n",
    "    print(\"We live on\", planet)\n",
    "\n",
    "print_planet()\n",
    "\n",
    "def change_planet():\n",
    "    global planet\n",
    "    planet = \"Mars\"\n",
    "\n",
    "change_planet()\n",
    "print_planet()"
   ]
  },
  {
   "cell_type": "markdown",
   "id": "08f957de-422d-4820-b7e5-339fa777632f",
   "metadata": {},
   "source": [
    "# Same variable names in different scopes\n",
    "\n",
    "It’s technically possible to have variables with the same names in different scopes, such as a global variable and a local variable within a function. This practice is known as “shadowing” when a local variable in a function has the same name as a global variable, effectively making the global variable inaccessible within the function’s scope.\n",
    "\n",
    "Using the same variable name in a different scope is a bad practice.\n",
    "\n",
    "* **Readability**: It can make the code harder to read and understand. When the same name is used in different scopes, keeping track of which variable is referenced at any given point in the code can be confusing.\n",
    "\n",
    "* **Debugging difficulty**: Debugging becomes more challenging because you have to consider the variable’s scope while tracing its value throughout the code.\n",
    "\n",
    "* **Maintainability**: It can lead to hard-to-diagnose bugs. For example, modifying the value of a variable in one scope might inadvertently affect the behavior of the code in another scope if the variable names are not managed carefully."
   ]
  },
  {
   "cell_type": "markdown",
   "id": "965c9dc4-b306-4a93-9dec-f0fc9e5b281d",
   "metadata": {},
   "source": [
    "# Altering Data\n",
    "\n",
    "Altering data involves modifying existing values or structures within variables, which depends on the data type used. In Python, data types are categorized as either mutable or immutable, each with distinct behaviors.\n",
    "\n",
    "**Mutable data types** such as lists, dictionaries, and sets can be changed directly. For example, you can append items to a list or update a dictionary's key-value pairs. Changes made to mutable data within a function will persist outside the function's scope, as the modifications affect the original data.\n",
    "\n",
    "Conversely, **immutable data types**, including tuples and strings, cannot be altered in place. Instead, any changes result in the creation of new instances with the updated values. Consequently, while you can modify immutable data within a function, the original data outside the function remains unchanged. Let's try to change the value of an integer inside a function:"
   ]
  },
  {
   "cell_type": "code",
   "execution_count": 6,
   "id": "4aa9dfc8-b6e7-445f-ab49-ee1f053a7b93",
   "metadata": {},
   "outputs": [
    {
     "name": "stdout",
     "output_type": "stream",
     "text": [
      "Value of num inside function: 200\n",
      "Value of num outside function: 20\n"
     ]
    }
   ],
   "source": [
    "num = 20\n",
    "\n",
    "def multiply_by_10(n):\n",
    "    n *= 10\n",
    "    num = n\n",
    "    print(\"Value of num inside function:\", num)\n",
    "    return n\n",
    "\n",
    "multiply_by_10(num)\n",
    "print(\"Value of num outside function:\", num)"
   ]
  },
  {
   "cell_type": "code",
   "execution_count": 7,
   "id": "98bdc46d-a01a-4c08-8faa-cee01c6ee5dd",
   "metadata": {},
   "outputs": [
    {
     "name": "stdout",
     "output_type": "stream",
     "text": [
      "[10, 20, 30, 40]\n",
      "[100, 200, 300, 400]\n"
     ]
    }
   ],
   "source": [
    "num_list = [10, 20, 30, 40]\n",
    "print(num_list)\n",
    "\n",
    "\n",
    "def multiply_by_10(my_list):\n",
    "    my_list[0] *= 10\n",
    "    my_list[1] *= 10\n",
    "    my_list[2] *= 10\n",
    "    my_list[3] *= 10\n",
    "\n",
    "multiply_by_10(num_list)\n",
    "print(num_list)"
   ]
  },
  {
   "cell_type": "code",
   "execution_count": null,
   "id": "75d496e5-c614-4da7-84d6-cb3bcc73c91b",
   "metadata": {},
   "outputs": [],
   "source": []
  }
 ],
 "metadata": {
  "kernelspec": {
   "display_name": "Python 3 (ipykernel)",
   "language": "python",
   "name": "python3"
  },
  "language_info": {
   "codemirror_mode": {
    "name": "ipython",
    "version": 3
   },
   "file_extension": ".py",
   "mimetype": "text/x-python",
   "name": "python",
   "nbconvert_exporter": "python",
   "pygments_lexer": "ipython3",
   "version": "3.10.12"
  }
 },
 "nbformat": 4,
 "nbformat_minor": 5
}
