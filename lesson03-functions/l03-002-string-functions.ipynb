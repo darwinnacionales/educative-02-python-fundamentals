{
 "cells": [
  {
   "cell_type": "markdown",
   "id": "5ac09174-b944-4af2-ac2e-733fff9680a6",
   "metadata": {},
   "source": [
    "# Search"
   ]
  },
  {
   "cell_type": "code",
   "execution_count": 2,
   "id": "e95643eb-8256-4e83-bad1-f7759fdbd8d2",
   "metadata": {},
   "outputs": [
    {
     "name": "stdout",
     "output_type": "stream",
     "text": [
      "2\n",
      "-1\n"
     ]
    }
   ],
   "source": [
    "random_string = \"This is a string\"\n",
    "print(random_string.find(\"is\"))\n",
    "print(random_string.find(\"is\", 9, 13))"
   ]
  },
  {
   "cell_type": "markdown",
   "id": "acf6de6d-48f0-4c85-abe9-a20ea748be81",
   "metadata": {},
   "source": [
    "# Replace"
   ]
  },
  {
   "cell_type": "code",
   "execution_count": 4,
   "id": "980c4e5e-3dc9-4534-a7ee-75baa68fae68",
   "metadata": {},
   "outputs": [
    {
     "name": "stdout",
     "output_type": "stream",
     "text": [
      "Welcome to Educative!\n",
      "Greetings from Educative!\n"
     ]
    }
   ],
   "source": [
    "a_string = \"Welcome to Educative!\"\n",
    "new_string = a_string.replace(\"Welcome to\", \"Greetings from\")\n",
    "print(a_string)\n",
    "print(new_string)"
   ]
  },
  {
   "cell_type": "markdown",
   "id": "6a32f030-434e-4fe8-b344-67c2d5d3e70a",
   "metadata": {},
   "source": [
    "# Changing the letter case"
   ]
  },
  {
   "cell_type": "code",
   "execution_count": 5,
   "id": "1091d33a-7d3c-44fe-8efa-fc18bc9d0075",
   "metadata": {},
   "outputs": [
    {
     "name": "stdout",
     "output_type": "stream",
     "text": [
      "UPPERCASE\n",
      "lowercase\n"
     ]
    }
   ],
   "source": [
    "print(\"UpperCase\".upper())\n",
    "print(\"LowerCase\".lower())"
   ]
  },
  {
   "cell_type": "markdown",
   "id": "bcf81379-73ed-4771-ab46-3ef903c3dacb",
   "metadata": {},
   "source": [
    "# Joining strings"
   ]
  },
  {
   "cell_type": "code",
   "execution_count": 7,
   "id": "b407fcc0-f535-4cf3-a6ec-6cba0630f007",
   "metadata": {},
   "outputs": [
    {
     "name": "stdout",
     "output_type": "stream",
     "text": [
      "a>>b>>c\n",
      "a<<b<<c\n",
      "a, b, c\n"
     ]
    }
   ],
   "source": [
    "str_list = ['a', 'b', 'c']\n",
    "print('>>'.join(str_list))\n",
    "print('<<'.join(str_list))\n",
    "print(', '.join(str_list))"
   ]
  },
  {
   "cell_type": "code",
   "execution_count": 8,
   "id": "389d3ba9-3b15-45b3-9e93-1aa1b73d9909",
   "metadata": {},
   "outputs": [
    {
     "name": "stdout",
     "output_type": "stream",
     "text": [
      "a, b, c\n",
      "a, b, c\n",
      "a, b, c\n"
     ]
    }
   ],
   "source": [
    "str_list = ['a', 'b', 'c']\n",
    "string = \"abc\"\n",
    "str_tuple = ('a', 'b', 'c') \n",
    "print(', '.join(str_list))  # joining strings with comma and space\n",
    "print(', '.join(string))    # joining strings with comma and space\n",
    "print(', '.join(str_tuple)) # joining strings with comma and space"
   ]
  },
  {
   "cell_type": "markdown",
   "id": "f537e881-2a2f-4116-96e8-b80be5d672a9",
   "metadata": {},
   "source": [
    "# Formatting"
   ]
  },
  {
   "cell_type": "code",
   "execution_count": 10,
   "id": "b37a32e4-edab-4247-a4ec-550466f97e09",
   "metadata": {},
   "outputs": [
    {
     "name": "stdout",
     "output_type": "stream",
     "text": [
      "Learn Python 3 at Educative\n",
      "Learn Python 3 at Educative\n",
      "Learn Python 3 at Educative\n"
     ]
    }
   ],
   "source": [
    "string1 = \"Learn Python {version} at {cname}\".format(version = 3, cname = \"Educative\")\n",
    "string2 = \"Learn Python {0} at {1}\".format(3, \"Educative\")\n",
    "string3 = \"Learn Python {} at {}\".format(3, \"Educative\")\n",
    "\n",
    "print(string1)\n",
    "print(string2)\n",
    "print(string3)\n"
   ]
  },
  {
   "cell_type": "markdown",
   "id": "c7896318-b709-4238-9383-92ca928e14a7",
   "metadata": {},
   "source": [
    "# Built-in String Methods"
   ]
  },
  {
   "cell_type": "code",
   "execution_count": 11,
   "id": "ad8fb027-679d-4d09-ac58-e242a4a2545f",
   "metadata": {},
   "outputs": [
    {
     "name": "stdout",
     "output_type": "stream",
     "text": [
      "Hello world\n",
      "hello world\n",
      "-------hello--------\n",
      "3\n",
      "b'hello'\n",
      "True\n",
      "hello   world\n",
      "6\n",
      "Hello, John!\n",
      "6\n",
      "True\n",
      "True\n",
      "True\n",
      "True\n",
      "True\n",
      "True\n",
      "True\n",
      "True\n",
      "True\n",
      "True\n",
      "apple, banana, cherry\n",
      "hello-----\n",
      "hello world\n",
      "hello\n",
      "('hello', ' ', 'world')\n",
      "hello Python\n",
      "12\n",
      "12\n",
      "-----hello\n",
      "('hello world ', 'world', '')\n",
      "['hello world', 'world']\n",
      "hello\n",
      "['hello', 'world']\n",
      "['hello', 'world']\n",
      "True\n",
      "hello\n",
      "hEllO wOrlD\n",
      "Hello World\n",
      "HELLO\n"
     ]
    }
   ],
   "source": [
    "# capitalize()\n",
    "print(\"hello world\".capitalize())\n",
    "\n",
    "# casefold()\n",
    "print(\"HELLO World\".casefold())\n",
    "\n",
    "# center()\n",
    "print(\"hello\".center(20, '-'))\n",
    "\n",
    "# count()\n",
    "print(\"hello world\".count('l'))\n",
    "\n",
    "# encode()\n",
    "print(\"hello\".encode())\n",
    "\n",
    "# endswith()\n",
    "print(\"hello\".endswith(\"lo\"))\n",
    "\n",
    "# expandtabs()\n",
    "print(\"hello\\tworld\".expandtabs(4))\n",
    "\n",
    "# find()\n",
    "print(\"hello world\".find('world'))\n",
    "\n",
    "# format()\n",
    "print(\"Hello, {name}!\".format(name=\"John\"))\n",
    "\n",
    "# index()\n",
    "print(\"hello world\".index('world'))\n",
    "\n",
    "# isalnum()\n",
    "print(\"hello123\".isalnum())\n",
    "\n",
    "# isalpha()\n",
    "print(\"hello\".isalpha())\n",
    "\n",
    "# isdecimal()\n",
    "print(\"123\".isdecimal())\n",
    "\n",
    "# isdigit()\n",
    "print(\"123\".isdigit())\n",
    "\n",
    "# isidentifier()\n",
    "print(\"variable1\".isidentifier())\n",
    "\n",
    "# islower()\n",
    "print(\"hello\".islower())\n",
    "\n",
    "# isnumeric()\n",
    "print(\"123\".isnumeric())\n",
    "\n",
    "# isspace()\n",
    "print(\"   \".isspace())\n",
    "\n",
    "# istitle()\n",
    "print(\"Hello World\".istitle())\n",
    "\n",
    "# isupper()\n",
    "print(\"HELLO\".isupper())\n",
    "\n",
    "# join()\n",
    "print(\", \".join([\"apple\", \"banana\", \"cherry\"]))\n",
    "\n",
    "# ljust()\n",
    "print(\"hello\".ljust(10, '-'))\n",
    "\n",
    "# lower()\n",
    "print(\"HELLO World\".lower())\n",
    "\n",
    "# lstrip()\n",
    "print(\"   hello\".lstrip())\n",
    "\n",
    "# partition()\n",
    "print(\"hello world\".partition(\" \"))\n",
    "\n",
    "# replace()\n",
    "print(\"hello world\".replace(\"world\", \"Python\"))\n",
    "\n",
    "# rfind()\n",
    "print(\"hello world world\".rfind('world'))\n",
    "\n",
    "# rindex()\n",
    "print(\"hello world world\".rindex('world'))\n",
    "\n",
    "# rjust()\n",
    "print(\"hello\".rjust(10, '-'))\n",
    "\n",
    "# rpartition()\n",
    "print(\"hello world world\".rpartition('world'))\n",
    "\n",
    "# rsplit()\n",
    "print(\"hello world world\".rsplit(' ', 1))\n",
    "\n",
    "# rstrip()\n",
    "print(\"hello   \".rstrip())\n",
    "\n",
    "# split()\n",
    "print(\"hello world\".split())\n",
    "\n",
    "# splitlines()\n",
    "print(\"hello\\nworld\".splitlines())\n",
    "\n",
    "# startswith()\n",
    "print(\"hello\".startswith(\"he\"))\n",
    "\n",
    "# strip()\n",
    "print(\"   hello   \".strip())\n",
    "\n",
    "# swapcase()\n",
    "print(\"HeLLo WoRLd\".swapcase())\n",
    "\n",
    "# title()\n",
    "print(\"hello world\".title())\n",
    "\n",
    "# upper()\n",
    "print(\"hello\".upper())"
   ]
  },
  {
   "cell_type": "code",
   "execution_count": null,
   "id": "e7898565-04e1-48e2-9c5e-cf04c51d3a41",
   "metadata": {},
   "outputs": [],
   "source": []
  }
 ],
 "metadata": {
  "kernelspec": {
   "display_name": "Python 3 (ipykernel)",
   "language": "python",
   "name": "python3"
  },
  "language_info": {
   "codemirror_mode": {
    "name": "ipython",
    "version": 3
   },
   "file_extension": ".py",
   "mimetype": "text/x-python",
   "name": "python",
   "nbconvert_exporter": "python",
   "pygments_lexer": "ipython3",
   "version": "3.10.12"
  }
 },
 "nbformat": 4,
 "nbformat_minor": 5
}
