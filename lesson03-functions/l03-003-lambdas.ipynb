{
 "cells": [
  {
   "cell_type": "code",
   "execution_count": 4,
   "id": "9c53a738-683e-420e-b3cf-4b324274ec21",
   "metadata": {},
   "outputs": [
    {
     "name": "stdout",
     "output_type": "stream",
     "text": [
      "30\n",
      "30\n",
      "30\n"
     ]
    }
   ],
   "source": [
    "triple = lambda num : num * 3  # Assigning the lambda to a variable\n",
    "print(triple(10))  # Calling the lambda and giving it a parameter\n",
    "\n",
    "# Lambda that prints the tripled value instead of returning it:\n",
    "print_triple = lambda num: print(num * 3)  # Assigning the lambda to a variable\n",
    "print_triple(10)  # Calling the lambda and giving it a parameter\n",
    "\n",
    "# Lambda without a parameter, hardcoding the value (10 * 3):\n",
    "hardcoded_triple = lambda: 10 * 3  # Assigning the lambda to a variable\n",
    "print(hardcoded_triple())  # Calling the lambda without giving it a parameter"
   ]
  },
  {
   "cell_type": "code",
   "execution_count": 6,
   "id": "279e0ba2-25c7-4c5f-a519-9aad5a5cb284",
   "metadata": {},
   "outputs": [
    {
     "name": "stdout",
     "output_type": "stream",
     "text": [
      "WWW\n"
     ]
    }
   ],
   "source": [
    "concat_strings = lambda a, b, c: a[0] + b[0] + c[0]\n",
    "\n",
    "print(concat_strings(\"World\", \"Wide\", \"Web\"))"
   ]
  },
  {
   "cell_type": "code",
   "execution_count": 8,
   "id": "e3c7fb49-1878-448e-a96a-68162ef0c581",
   "metadata": {},
   "outputs": [
    {
     "name": "stdout",
     "output_type": "stream",
     "text": [
      "High\n"
     ]
    }
   ],
   "source": [
    "my_func = lambda num: \"High\" if num > 50 else \"Low\"\n",
    "\n",
    "print(my_func(51))"
   ]
  },
  {
   "cell_type": "code",
   "execution_count": null,
   "id": "489676ef-c27c-4e29-92ef-75fc6839fdcd",
   "metadata": {},
   "outputs": [],
   "source": []
  },
  {
   "cell_type": "code",
   "execution_count": null,
   "id": "49aadbbf-1176-4299-82b3-084d8434b38f",
   "metadata": {},
   "outputs": [],
   "source": []
  }
 ],
 "metadata": {
  "kernelspec": {
   "display_name": "Python 3 (ipykernel)",
   "language": "python",
   "name": "python3"
  },
  "language_info": {
   "codemirror_mode": {
    "name": "ipython",
    "version": 3
   },
   "file_extension": ".py",
   "mimetype": "text/x-python",
   "name": "python",
   "nbconvert_exporter": "python",
   "pygments_lexer": "ipython3",
   "version": "3.10.12"
  }
 },
 "nbformat": 4,
 "nbformat_minor": 5
}
