{
 "cells": [
  {
   "cell_type": "markdown",
   "id": "369fe948-16c2-4e4e-9bdc-a79ad5e2dfd1",
   "metadata": {},
   "source": [
    "# Recursion"
   ]
  },
  {
   "cell_type": "markdown",
   "id": "f69eaad6-b7d1-4bcb-a426-9ee167572c3d",
   "metadata": {},
   "source": [
    "## Factorial Example"
   ]
  },
  {
   "cell_type": "code",
   "execution_count": 1,
   "id": "3673ceda-dac1-4ae6-a1a9-fb13d2a43acd",
   "metadata": {},
   "outputs": [
    {
     "name": "stdout",
     "output_type": "stream",
     "text": [
      "24\n"
     ]
    }
   ],
   "source": [
    "def factorial(n):\n",
    "    if n == 0:\n",
    "        return 1\n",
    "    else:\n",
    "        return n * factorial(n - 1)\n",
    "\n",
    "result = factorial(4)\n",
    "print(result)"
   ]
  },
  {
   "cell_type": "markdown",
   "id": "3acab3c8-9cc7-44fe-9ea5-610f3f68c87e",
   "metadata": {},
   "source": [
    "## Fibonacci Sequence"
   ]
  },
  {
   "cell_type": "code",
   "execution_count": 3,
   "id": "de366989-13f6-4c0c-ac5a-f4b7c3469204",
   "metadata": {},
   "outputs": [
    {
     "name": "stdout",
     "output_type": "stream",
     "text": [
      "5\n",
      "610\n"
     ]
    }
   ],
   "source": [
    "def fib(n):\n",
    "    if n <= 1:\n",
    "        return n\n",
    "\n",
    "    f = fib(n - 1) + fib(n - 2)\n",
    "\n",
    "    return f\n",
    "\n",
    "print(fib(5))\n",
    "print(fib(15))"
   ]
  },
  {
   "cell_type": "markdown",
   "id": "d8a8e081-d675-485c-8257-392020649a2b",
   "metadata": {},
   "source": [
    "## Collatz Conjecture\n",
    "\n",
    "The Collatz conjecture is a mathematical sequence defined as follows: Start with any positive integer `n`. Then, each term is obtained from the previous term as follows:\n",
    "\n",
    "* If the previous term is even, the next term is one half of the previous term.\n",
    "* If the previous term is odd, the next term is 3 times the previous term plus 1.\n",
    "\n",
    "The conjecture states that no matter what number you start with, by repeating the above mentioned steps, you will always reach the number `1`. Let's test this conjecture programmatically."
   ]
  },
  {
   "cell_type": "code",
   "execution_count": 8,
   "id": "57789b05-3cd8-4f92-bc5c-dc57033fc000",
   "metadata": {},
   "outputs": [
    {
     "name": "stdout",
     "output_type": "stream",
     "text": [
      "3 10 5 16 8 4 2 1 None\n",
      "6 3 10 5 16 8 4 2 1 None\n",
      "19 58 29 88 44 22 11 34 17 52 26 13 40 20 10 5 16 8 4 2 1 None\n"
     ]
    }
   ],
   "source": [
    "def collatz(n):        \n",
    "    print(n, end=\" \")\n",
    "    \n",
    "    if n == 1:\n",
    "        return\n",
    "    elif n % 2 == 0:\n",
    "        collatz(n // 2)\n",
    "    else:\n",
    "        collatz(n * 3 + 1)\n",
    "\n",
    "print(collatz(3))\n",
    "print(collatz(6))\n",
    "print(collatz(19))"
   ]
  },
  {
   "cell_type": "code",
   "execution_count": null,
   "id": "e05e255c-4478-4fc3-ab1a-83fab3eadb35",
   "metadata": {},
   "outputs": [],
   "source": []
  }
 ],
 "metadata": {
  "kernelspec": {
   "display_name": "Python 3 (ipykernel)",
   "language": "python",
   "name": "python3"
  },
  "language_info": {
   "codemirror_mode": {
    "name": "ipython",
    "version": 3
   },
   "file_extension": ".py",
   "mimetype": "text/x-python",
   "name": "python",
   "nbconvert_exporter": "python",
   "pygments_lexer": "ipython3",
   "version": "3.10.12"
  }
 },
 "nbformat": 4,
 "nbformat_minor": 5
}
